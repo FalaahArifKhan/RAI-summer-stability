{
 "cells": [
  {
   "cell_type": "code",
   "execution_count": 1,
   "id": "652b9ed4",
   "metadata": {},
   "outputs": [],
   "source": [
    "from utils.data_loader import *\n",
    "from utils.null_handler import *\n",
    "from utils.model_tuning_utils import *\n",
    "from sys import getsizeof\n",
    "from sklearn.preprocessing import StandardScaler\n",
    "from pprint import pprint\n",
    "from sklearn.tree import DecisionTreeClassifier\n",
    "from sklearn.model_selection import train_test_split\n",
    "from sklearn.ensemble import RandomForestClassifier\n",
    "from xgboost import XGBClassifier\n",
    "\n",
    "SEED=10"
   ]
  },
  {
   "cell_type": "code",
   "execution_count": 2,
   "id": "8d4dd537",
   "metadata": {},
   "outputs": [],
   "source": [
    "try:\n",
    "    from folktables import ACSDataSource, ACSEmployment\n",
    "except:\n",
    "    !pip install folktables\n",
    "    from folktables import ACSDataSource, ACSEmployment\n",
    "    # clear_output()"
   ]
  },
  {
   "cell_type": "markdown",
   "id": "e34f792f",
   "metadata": {},
   "source": [
    "### Loading ACSEmployment data"
   ]
  },
  {
   "cell_type": "code",
   "execution_count": 3,
   "id": "32820cac",
   "metadata": {},
   "outputs": [],
   "source": [
    "config = {\n",
    "    'state': [\"CA\"],\n",
    "    'year': '2016',\n",
    "    'task': ACSEmployment\n",
    "}"
   ]
  },
  {
   "cell_type": "code",
   "execution_count": 4,
   "id": "d7067c19",
   "metadata": {},
   "outputs": [],
   "source": [
    "X_data_load, y_data = ACSDataLoader(task=config['task'], state=config['state'], year=config['year'])"
   ]
  },
  {
   "cell_type": "code",
   "execution_count": 5,
   "id": "ecc190c4",
   "metadata": {},
   "outputs": [
    {
     "name": "stdout",
     "output_type": "stream",
     "text": [
      "Original: 45 mb\n",
      "Optimized: 23 mb\n"
     ]
    }
   ],
   "source": [
    "# If the task is ACSEmployment, we can optimize the file size\n",
    "print(f'Original: {int(getsizeof(X_data_load) / 1024**2)} mb')\n",
    "print(f'Optimized: {int(getsizeof(optimize_ACSEmployment(X_data_load)) / 1024**2)} mb')\n",
    "\n",
    "X_data = optimize_ACSEmployment(X_data_load)"
   ]
  },
  {
   "cell_type": "markdown",
   "id": "094581db",
   "metadata": {},
   "source": [
    "#### Checking if there are nulls in the dataset"
   ]
  },
  {
   "cell_type": "code",
   "execution_count": 6,
   "id": "643b0bf1",
   "metadata": {},
   "outputs": [
    {
     "data": {
      "text/plain": [
       "AGEP             0\n",
       "SCHL         11466\n",
       "MAR              0\n",
       "RELP             0\n",
       "DIS              0\n",
       "ESP         300716\n",
       "CIT              0\n",
       "MIG           3702\n",
       "MIL          74731\n",
       "ANC              0\n",
       "NATIVITY         0\n",
       "DEAR             0\n",
       "DEYE             0\n",
       "DREM         19605\n",
       "SEX              0\n",
       "RAC1P            0\n",
       "dtype: int64"
      ]
     },
     "execution_count": 6,
     "metadata": {},
     "output_type": "execute_result"
    }
   ],
   "source": [
    "X_data.isnull().sum()"
   ]
  },
  {
   "cell_type": "markdown",
   "id": "9504adda",
   "metadata": {},
   "source": [
    "### Preprocessing: Handling nulls"
   ]
  },
  {
   "cell_type": "code",
   "execution_count": 7,
   "id": "1b8f17fd",
   "metadata": {},
   "outputs": [],
   "source": [
    "missing = ['SCHL', 'ESP', 'MIG', 'MIL', 'DREM']"
   ]
  },
  {
   "cell_type": "code",
   "execution_count": 8,
   "id": "1aa043d6",
   "metadata": {},
   "outputs": [],
   "source": [
    "handle_nulls = {\n",
    "'special': ['SCHL','MIG', 'MIL', 'DREM', 'ESP'],\n",
    "   # 'drop-rows': ['ESP'],\n",
    "   # 'drop-column': ['ESP']\n",
    "}"
   ]
  },
  {
   "cell_type": "code",
   "execution_count": 9,
   "id": "7cd580ea",
   "metadata": {},
   "outputs": [
    {
     "data": {
      "text/plain": [
       "((376035, 16),\n",
       " Index(['AGEP', 'SCHL', 'MAR', 'RELP', 'DIS', 'ESP', 'CIT', 'MIG', 'MIL', 'ANC',\n",
       "        'NATIVITY', 'DEAR', 'DEYE', 'DREM', 'SEX', 'RAC1P'],\n",
       "       dtype='object'))"
      ]
     },
     "execution_count": 9,
     "metadata": {},
     "output_type": "execute_result"
    }
   ],
   "source": [
    "#Checking dataset shape before handling nulls\n",
    "X_data.shape, X_data.columns"
   ]
  },
  {
   "cell_type": "code",
   "execution_count": 10,
   "id": "b851fa1e",
   "metadata": {},
   "outputs": [],
   "source": [
    "for how_to in handle_nulls.keys():\n",
    "    X_data = handle_df_nulls(X_data, how_to, handle_nulls[how_to])"
   ]
  },
  {
   "cell_type": "code",
   "execution_count": 11,
   "id": "a4aaa9ea",
   "metadata": {},
   "outputs": [
    {
     "data": {
      "text/plain": [
       "((376035, 16),\n",
       " Index(['AGEP', 'SCHL', 'MAR', 'RELP', 'DIS', 'ESP', 'CIT', 'MIG', 'MIL', 'ANC',\n",
       "        'NATIVITY', 'DEAR', 'DEYE', 'DREM', 'SEX', 'RAC1P'],\n",
       "       dtype='object'))"
      ]
     },
     "execution_count": 11,
     "metadata": {},
     "output_type": "execute_result"
    }
   ],
   "source": [
    "#Checking dataset shape after handling nulls\n",
    "X_data.shape, X_data.columns"
   ]
  },
  {
   "cell_type": "markdown",
   "id": "db483a70",
   "metadata": {},
   "source": [
    "#### Rechecking if there are nulls -- if the null_handler has run correctly, there should not be"
   ]
  },
  {
   "cell_type": "code",
   "execution_count": 12,
   "id": "9f3d8198",
   "metadata": {},
   "outputs": [
    {
     "data": {
      "text/plain": [
       "AGEP        0\n",
       "SCHL        0\n",
       "MAR         0\n",
       "RELP        0\n",
       "DIS         0\n",
       "ESP         0\n",
       "CIT         0\n",
       "MIG         0\n",
       "MIL         0\n",
       "ANC         0\n",
       "NATIVITY    0\n",
       "DEAR        0\n",
       "DEYE        0\n",
       "DREM        0\n",
       "SEX         0\n",
       "RAC1P       0\n",
       "dtype: int64"
      ]
     },
     "execution_count": 12,
     "metadata": {},
     "output_type": "execute_result"
    }
   ],
   "source": [
    "X_data.isnull().sum()"
   ]
  },
  {
   "cell_type": "markdown",
   "id": "225fbb72",
   "metadata": {},
   "source": [
    "### Other data pre-processing (making dummies, scaling etc)"
   ]
  },
  {
   "cell_type": "code",
   "execution_count": 13,
   "id": "66cbfa67",
   "metadata": {},
   "outputs": [
    {
     "data": {
      "text/plain": [
       "Index(['AGEP', 'SCHL', 'MAR', 'RELP', 'DIS', 'ESP', 'CIT', 'MIG', 'MIL', 'ANC',\n",
       "       'NATIVITY', 'DEAR', 'DEYE', 'DREM', 'SEX', 'RAC1P'],\n",
       "      dtype='object')"
      ]
     },
     "execution_count": 13,
     "metadata": {},
     "output_type": "execute_result"
    }
   ],
   "source": [
    "X_data.columns"
   ]
  },
  {
   "cell_type": "code",
   "execution_count": 14,
   "id": "b54539b8",
   "metadata": {},
   "outputs": [],
   "source": [
    "def make_feature_df(data, categorical_columns, numerical_columns):\n",
    "    feature_df = pd.get_dummies(X_data[categorical_columns], columns=categorical_columns)\n",
    "    for col in numerical_columns:\n",
    "        feature_df[col] = data[col]\n",
    "    return feature_df"
   ]
  },
  {
   "cell_type": "code",
   "execution_count": 15,
   "id": "2ab814ae",
   "metadata": {},
   "outputs": [],
   "source": [
    "categorical_col = ['MAR', 'RELP', 'DIS', 'ESP', 'CIT', 'MIG', 'MIL', 'ANC',\n",
    "       'NATIVITY', 'DEAR', 'DEYE', 'DREM', 'SEX', 'RAC1P']\n",
    "numerical_col = ['AGEP', 'SCHL']"
   ]
  },
  {
   "cell_type": "code",
   "execution_count": 16,
   "id": "90b9303e",
   "metadata": {},
   "outputs": [],
   "source": [
    "X_features = make_feature_df(X_data, categorical_col, numerical_col)"
   ]
  },
  {
   "cell_type": "code",
   "execution_count": 17,
   "id": "3f121a91",
   "metadata": {},
   "outputs": [
    {
     "data": {
      "text/plain": [
       "((376035, 74), (376035, 16))"
      ]
     },
     "execution_count": 17,
     "metadata": {},
     "output_type": "execute_result"
    }
   ],
   "source": [
    "X_features.shape, X_data.shape"
   ]
  },
  {
   "cell_type": "markdown",
   "id": "35974d56",
   "metadata": {},
   "source": [
    "### Model selection after hyperparameter tuning"
   ]
  },
  {
   "cell_type": "code",
   "execution_count": 18,
   "id": "943b2446",
   "metadata": {},
   "outputs": [
    {
     "data": {
      "text/plain": [
       "((300828, 74), (75207, 74))"
      ]
     },
     "execution_count": 18,
     "metadata": {},
     "output_type": "execute_result"
    }
   ],
   "source": [
    "X_train_, X_test, y_train_, y_test = train_test_split(X_features, y_data, test_size=0.2, random_state=SEED)\n",
    "X_train_.shape, X_test.shape"
   ]
  },
  {
   "cell_type": "code",
   "execution_count": 19,
   "id": "be8d2a82",
   "metadata": {},
   "outputs": [
    {
     "data": {
      "text/plain": [
       "((225621, 74), (75207, 74))"
      ]
     },
     "execution_count": 19,
     "metadata": {},
     "output_type": "execute_result"
    }
   ],
   "source": [
    "X_train, X_val, y_train, y_val = train_test_split(X_train_, y_train_, test_size=0.25, random_state=SEED)\n",
    "X_train.shape, X_val.shape"
   ]
  },
  {
   "cell_type": "code",
   "execution_count": 20,
   "id": "ed51a80d",
   "metadata": {},
   "outputs": [],
   "source": [
    "scaler = StandardScaler()\n",
    "X_train = scaler.fit_transform(X_train)\n",
    "X_val = scaler.transform(X_val)\n",
    "X_test = scaler.transform(X_test)"
   ]
  },
  {
   "cell_type": "code",
   "execution_count": 21,
   "id": "c8b112a7",
   "metadata": {},
   "outputs": [],
   "source": [
    "n_folds = 3\n",
    "samples_per_fold = len(y_val)\n",
    "best_results_df = pd.DataFrame(columns=('Dataset_Name', 'Model_Name', 'F1_Score',\n",
    "                                   'Accuracy_Score',\n",
    "                                   'Model_Best_Params', 'Model_Pred'))"
   ]
  },
  {
   "cell_type": "code",
   "execution_count": 22,
   "id": "36cf4010",
   "metadata": {},
   "outputs": [],
   "source": [
    "config_models = [\n",
    "    {\n",
    "        'model_name': 'RandomForestClassifier',\n",
    "        'model': RandomForestClassifier(random_state=SEED),\n",
    "        'params': {\n",
    "            \"bootstrap\": [True],\n",
    "            \"max_depth\": [10],\n",
    "            \"n_estimators\": [30],\n",
    "            \"max_features\": [0.6]\n",
    "        }\n",
    "    },\n",
    "    {\n",
    "        'model_name': 'DecisionTreeClassifier',\n",
    "        'model': DecisionTreeClassifier(random_state=SEED),\n",
    "        'params': {\n",
    "            \"max_depth\": [10],\n",
    "            \"max_features\": [0.6],\n",
    "            \"criterion\": [\"gini\"]\n",
    "        }\n",
    "    },\n",
    "    # For XGBoost parameters tuning we used this article --\n",
    "    # https://www.analyticsvidhya.com/blog/2016/03/complete-guide-parameter-tuning-xgboost-with-codes-python/\n",
    "    {\n",
    "        'model_name': 'XGBClassifier',\n",
    "        'model': XGBClassifier(random_state=SEED),\n",
    "        'params': {\n",
    "            'learning_rate': [0.1],\n",
    "            'n_estimators': [200],\n",
    "            'max_depth': [5],\n",
    "            'objective':  ['binary:logistic'],\n",
    "        }\n",
    "    }\n",
    "]"
   ]
  },
  {
   "cell_type": "code",
   "execution_count": 23,
   "id": "223c5e65",
   "metadata": {},
   "outputs": [
    {
     "name": "stdout",
     "output_type": "stream",
     "text": [
      "Fitting 3 folds for each of 1 candidates, totalling 3 fits\n"
     ]
    },
    {
     "name": "stderr",
     "output_type": "stream",
     "text": [
      "/Library/Frameworks/Python.framework/Versions/3.9/lib/python3.9/site-packages/sklearn/model_selection/_validation.py:610: FitFailedWarning: Estimator fit failed. The score on this train-test partition for these parameters will be set to nan. Details: \n",
      "Traceback (most recent call last):\n",
      "  File \"/Library/Frameworks/Python.framework/Versions/3.9/lib/python3.9/site-packages/sklearn/model_selection/_validation.py\", line 593, in _fit_and_score\n",
      "    estimator.fit(X_train, y_train, **fit_params)\n",
      "  File \"/Library/Frameworks/Python.framework/Versions/3.9/lib/python3.9/site-packages/sklearn/ensemble/_forest.py\", line 304, in fit\n",
      "    X, y = self._validate_data(X, y, multi_output=True,\n",
      "  File \"/Library/Frameworks/Python.framework/Versions/3.9/lib/python3.9/site-packages/sklearn/base.py\", line 433, in _validate_data\n",
      "    X, y = check_X_y(X, y, **check_params)\n",
      "  File \"/Library/Frameworks/Python.framework/Versions/3.9/lib/python3.9/site-packages/sklearn/utils/validation.py\", line 63, in inner_f\n",
      "    return f(*args, **kwargs)\n",
      "  File \"/Library/Frameworks/Python.framework/Versions/3.9/lib/python3.9/site-packages/sklearn/utils/validation.py\", line 814, in check_X_y\n",
      "    X = check_array(X, accept_sparse=accept_sparse,\n",
      "  File \"/Library/Frameworks/Python.framework/Versions/3.9/lib/python3.9/site-packages/sklearn/utils/validation.py\", line 63, in inner_f\n",
      "    return f(*args, **kwargs)\n",
      "  File \"/Library/Frameworks/Python.framework/Versions/3.9/lib/python3.9/site-packages/sklearn/utils/validation.py\", line 669, in check_array\n",
      "    raise ValueError(\"Found array with %d sample(s) (shape=%s) while a\"\n",
      "ValueError: Found array with 0 sample(s) (shape=(0, 74)) while a minimum of 1 is required.\n",
      "\n",
      "  warnings.warn(\"Estimator fit failed. The score on this train-test\"\n",
      "/Library/Frameworks/Python.framework/Versions/3.9/lib/python3.9/site-packages/sklearn/model_selection/_search.py:918: UserWarning: One or more of the test scores are non-finite: [nan]\n",
      "  warnings.warn(\n"
     ]
    },
    {
     "name": "stdout",
     "output_type": "stream",
     "text": [
      "Tuning for RandomForestClassifier is finished\n",
      "####################  Folktables [LA]  ####################\n",
      "Test model:  RandomForestClassifier\n",
      "Test model parameters:\n",
      "{'bootstrap': True, 'max_depth': 10, 'max_features': 0.6, 'n_estimators': 30}\n",
      "\n",
      "              precision    recall  f1-score   support\n",
      "\n",
      "           0      0.888     0.766     0.823     41765\n",
      "           1      0.751     0.880     0.810     33442\n",
      "\n",
      "    accuracy                          0.817     75207\n",
      "   macro avg      0.820     0.823     0.817     75207\n",
      "weighted avg      0.827     0.817     0.817     75207\n",
      "\n"
     ]
    },
    {
     "data": {
      "image/png": "[encoded data removed]",
      "text/plain": [
       "<Figure size 432x288 with 2 Axes>"
      ]
     },
     "metadata": {
      "needs_background": "light"
     },
     "output_type": "display_data"
    },
    {
     "name": "stdout",
     "output_type": "stream",
     "text": [
      "Fitting 3 folds for each of 1 candidates, totalling 3 fits\n"
     ]
    },
    {
     "name": "stderr",
     "output_type": "stream",
     "text": [
      "/Library/Frameworks/Python.framework/Versions/3.9/lib/python3.9/site-packages/sklearn/model_selection/_validation.py:610: FitFailedWarning: Estimator fit failed. The score on this train-test partition for these parameters will be set to nan. Details: \n",
      "Traceback (most recent call last):\n",
      "  File \"/Library/Frameworks/Python.framework/Versions/3.9/lib/python3.9/site-packages/sklearn/model_selection/_validation.py\", line 593, in _fit_and_score\n",
      "    estimator.fit(X_train, y_train, **fit_params)\n",
      "  File \"/Library/Frameworks/Python.framework/Versions/3.9/lib/python3.9/site-packages/sklearn/tree/_classes.py\", line 898, in fit\n",
      "    super().fit(\n",
      "  File \"/Library/Frameworks/Python.framework/Versions/3.9/lib/python3.9/site-packages/sklearn/tree/_classes.py\", line 156, in fit\n",
      "    X, y = self._validate_data(X, y,\n",
      "  File \"/Library/Frameworks/Python.framework/Versions/3.9/lib/python3.9/site-packages/sklearn/base.py\", line 430, in _validate_data\n",
      "    X = check_array(X, **check_X_params)\n",
      "  File \"/Library/Frameworks/Python.framework/Versions/3.9/lib/python3.9/site-packages/sklearn/utils/validation.py\", line 63, in inner_f\n",
      "    return f(*args, **kwargs)\n",
      "  File \"/Library/Frameworks/Python.framework/Versions/3.9/lib/python3.9/site-packages/sklearn/utils/validation.py\", line 669, in check_array\n",
      "    raise ValueError(\"Found array with %d sample(s) (shape=%s) while a\"\n",
      "ValueError: Found array with 0 sample(s) (shape=(0, 74)) while a minimum of 1 is required.\n",
      "\n",
      "  warnings.warn(\"Estimator fit failed. The score on this train-test\"\n",
      "/Library/Frameworks/Python.framework/Versions/3.9/lib/python3.9/site-packages/sklearn/model_selection/_search.py:918: UserWarning: One or more of the test scores are non-finite: [nan]\n",
      "  warnings.warn(\n"
     ]
    },
    {
     "name": "stdout",
     "output_type": "stream",
     "text": [
      "Tuning for DecisionTreeClassifier is finished\n",
      "####################  Folktables [LA]  ####################\n",
      "Test model:  DecisionTreeClassifier\n",
      "Test model parameters:\n",
      "{'criterion': 'gini', 'max_depth': 10, 'max_features': 0.6}\n",
      "\n",
      "              precision    recall  f1-score   support\n",
      "\n",
      "           0      0.877     0.771     0.821     41765\n",
      "           1      0.752     0.865     0.805     33442\n",
      "\n",
      "    accuracy                          0.813     75207\n",
      "   macro avg      0.814     0.818     0.813     75207\n",
      "weighted avg      0.821     0.813     0.814     75207\n",
      "\n"
     ]
    },
    {
     "data": {
      "image/png": "[encoded data removed]",
      "text/plain": [
       "<Figure size 432x288 with 2 Axes>"
      ]
     },
     "metadata": {
      "needs_background": "light"
     },
     "output_type": "display_data"
    },
    {
     "name": "stdout",
     "output_type": "stream",
     "text": [
      "Fitting 3 folds for each of 1 candidates, totalling 3 fits\n",
      "[CV 3/3; 1/1] START learning_rate=0.1, max_depth=5, n_estimators=200, objective=binary:logistic\n",
      "[11:54:32] WARNING: /Users/runner/work/xgboost/xgboost/python-package/build/temp.macosx-10.9-x86_64-3.7/xgboost/src/learner.cc:1350: Empty dataset at worker: 0\n",
      "[11:54:32] WARNING: /Users/runner/work/xgboost/xgboost/python-package/build/temp.macosx-10.9-x86_64-3.7/xgboost/src/learner.cc:1350: Empty dataset at worker: 0\n",
      "[11:54:32] WARNING: /Users/runner/work/xgboost/xgboost/python-package/build/temp.macosx-10.9-x86_64-3.7/xgboost/src/learner.cc:1350: Empty dataset at worker: 0\n",
      "[11:54:32] WARNING: /Users/runner/work/xgboost/xgboost/python-package/build/temp.macosx-10.9-x86_64-3.7/xgboost/src/learner.cc:1350: Empty dataset at worker: 0\n",
      "[11:54:32] WARNING: /Users/runner/work/xgboost/xgboost/python-package/build/temp.macosx-10.9-x86_64-3.7/xgboost/src/learner.cc:1350: Empty dataset at worker: 0\n",
      "[11:54:32] WARNING: /Users/runner/work/xgboost/xgboost/python-package/build/temp.macosx-10.9-x86_64-3.7/xgboost/src/learner.cc:1350: Empty dataset at worker: 0\n",
      "[11:54:32] WARNING: /Users/runner/work/xgboost/xgboost/python-package/build/temp.macosx-10.9-x86_64-3.7/xgboost/src/learner.cc:1350: Empty dataset at worker: 0\n",
      "[11:54:32] WARNING: /Users/runner/work/xgboost/xgboost/python-package/build/temp.macosx-10.9-x86_64-3.7/xgboost/src/learner.cc:1350: Empty dataset at worker: 0\n",
      "[11:54:32] WARNING: /Users/runner/work/xgboost/xgboost/python-package/build/temp.macosx-10.9-x86_64-3.7/xgboost/src/learner.cc:1350: Empty dataset at worker: 0\n",
      "[11:54:32] WARNING: /Users/runner/work/xgboost/xgboost/python-package/build/temp.macosx-10.9-x86_64-3.7/xgboost/src/learner.cc:1350: Empty dataset at worker: 0\n",
      "[11:54:32] WARNING: /Users/runner/work/xgboost/xgboost/python-package/build/temp.macosx-10.9-x86_64-3.7/xgboost/src/learner.cc:1350: Empty dataset at worker: 0\n",
      "[11:54:32] WARNING: /Users/runner/work/xgboost/xgboost/python-package/build/temp.macosx-10.9-x86_64-3.7/xgboost/src/learner.cc:1350: Empty dataset at worker: 0\n",
      "[11:54:32] WARNING: /Users/runner/work/xgboost/xgboost/python-package/build/temp.macosx-10.9-x86_64-3.7/xgboost/src/learner.cc:1350: Empty dataset at worker: 0\n",
      "[11:54:32] WARNING: /Users/runner/work/xgboost/xgboost/python-package/build/temp.macosx-10.9-x86_64-3.7/xgboost/src/learner.cc:1350: Empty dataset at worker: 0\n",
      "[11:54:32] WARNING: /Users/runner/work/xgboost/xgboost/python-package/build/temp.macosx-10.9-x86_64-3.7/xgboost/src/learner.cc:1350: Empty dataset at worker: 0\n",
      "[11:54:32] WARNING: /Users/runner/work/xgboost/xgboost/python-package/build/temp.macosx-10.9-x86_64-3.7/xgboost/src/learner.cc:1350: Empty dataset at worker: 0\n",
      "[11:54:32] WARNING: /Users/runner/work/xgboost/xgboost/python-package/build/temp.macosx-10.9-x86_64-3.7/xgboost/src/learner.cc:1350: Empty dataset at worker: 0\n",
      "[11:54:32] WARNING: /Users/runner/work/xgboost/xgboost/python-package/build/temp.macosx-10.9-x86_64-3.7/xgboost/src/learner.cc:1350: Empty dataset at worker: 0\n",
      "[11:54:32] WARNING: /Users/runner/work/xgboost/xgboost/python-package/build/temp.macosx-10.9-x86_64-3.7/xgboost/src/learner.cc:1350: Empty dataset at worker: 0\n",
      "[11:54:32] WARNING: /Users/runner/work/xgboost/xgboost/python-package/build/temp.macosx-10.9-x86_64-3.7/xgboost/src/learner.cc:1350: Empty dataset at worker: 0\n",
      "[11:54:32] WARNING: /Users/runner/work/xgboost/xgboost/python-package/build/temp.macosx-10.9-x86_64-3.7/xgboost/src/learner.cc:1350: Empty dataset at worker: 0\n",
      "[11:54:32] WARNING: /Users/runner/work/xgboost/xgboost/python-package/build/temp.macosx-10.9-x86_64-3.7/xgboost/src/learner.cc:1350: Empty dataset at worker: 0\n",
      "[11:54:32] WARNING: /Users/runner/work/xgboost/xgboost/python-package/build/temp.macosx-10.9-x86_64-3.7/xgboost/src/learner.cc:1350: Empty dataset at worker: 0\n",
      "[11:54:32] WARNING: /Users/runner/work/xgboost/xgboost/python-package/build/temp.macosx-10.9-x86_64-3.7/xgboost/src/learner.cc:1350: Empty dataset at worker: 0\n",
      "[11:54:32] WARNING: /Users/runner/work/xgboost/xgboost/python-package/build/temp.macosx-10.9-x86_64-3.7/xgboost/src/learner.cc:1350: Empty dataset at worker: 0\n",
      "[11:54:32] WARNING: /Users/runner/work/xgboost/xgboost/python-package/build/temp.macosx-10.9-x86_64-3.7/xgboost/src/learner.cc:1350: Empty dataset at worker: 0\n",
      "[11:54:32] WARNING: /Users/runner/work/xgboost/xgboost/python-package/build/temp.macosx-10.9-x86_64-3.7/xgboost/src/learner.cc:1350: Empty dataset at worker: 0\n",
      "[11:54:32] WARNING: /Users/runner/work/xgboost/xgboost/python-package/build/temp.macosx-10.9-x86_64-3.7/xgboost/src/learner.cc:1350: Empty dataset at worker: 0\n",
      "[11:54:32] WARNING: /Users/runner/work/xgboost/xgboost/python-package/build/temp.macosx-10.9-x86_64-3.7/xgboost/src/learner.cc:1350: Empty dataset at worker: 0\n",
      "[11:54:32] WARNING: /Users/runner/work/xgboost/xgboost/python-package/build/temp.macosx-10.9-x86_64-3.7/xgboost/src/learner.cc:1350: Empty dataset at worker: 0\n",
      "[11:54:32] WARNING: /Users/runner/work/xgboost/xgboost/python-package/build/temp.macosx-10.9-x86_64-3.7/xgboost/src/learner.cc:1350: Empty dataset at worker: 0\n",
      "[11:54:32] WARNING: /Users/runner/work/xgboost/xgboost/python-package/build/temp.macosx-10.9-x86_64-3.7/xgboost/src/learner.cc:1350: Empty dataset at worker: 0\n",
      "[11:54:32] WARNING: /Users/runner/work/xgboost/xgboost/python-package/build/temp.macosx-10.9-x86_64-3.7/xgboost/src/learner.cc:1350: Empty dataset at worker: 0\n",
      "[11:54:32] WARNING: /Users/runner/work/xgboost/xgboost/python-package/build/temp.macosx-10.9-x86_64-3.7/xgboost/src/learner.cc:1350: Empty dataset at worker: 0\n",
      "[11:54:32] WARNING: /Users/runner/work/xgboost/xgboost/python-package/build/temp.macosx-10.9-x86_64-3.7/xgboost/src/learner.cc:1350: Empty dataset at worker: 0\n",
      "[11:54:32] WARNING: /Users/runner/work/xgboost/xgboost/python-package/build/temp.macosx-10.9-x86_64-3.7/xgboost/src/learner.cc:1350: Empty dataset at worker: 0\n",
      "[11:54:32] WARNING: /Users/runner/work/xgboost/xgboost/python-package/build/temp.macosx-10.9-x86_64-3.7/xgboost/src/learner.cc:1350: Empty dataset at worker: 0\n",
      "[11:54:32] WARNING: /Users/runner/work/xgboost/xgboost/python-package/build/temp.macosx-10.9-x86_64-3.7/xgboost/src/learner.cc:1350: Empty dataset at worker: 0\n",
      "[11:54:32] WARNING: /Users/runner/work/xgboost/xgboost/python-package/build/temp.macosx-10.9-x86_64-3.7/xgboost/src/learner.cc:1350: Empty dataset at worker: 0\n",
      "[11:54:32] WARNING: /Users/runner/work/xgboost/xgboost/python-package/build/temp.macosx-10.9-x86_64-3.7/xgboost/src/learner.cc:1350: Empty dataset at worker: 0\n",
      "[11:54:32] WARNING: /Users/runner/work/xgboost/xgboost/python-package/build/temp.macosx-10.9-x86_64-3.7/xgboost/src/learner.cc:1350: Empty dataset at worker: 0\n",
      "[11:54:32] WARNING: /Users/runner/work/xgboost/xgboost/python-package/build/temp.macosx-10.9-x86_64-3.7/xgboost/src/learner.cc:1350: Empty dataset at worker: 0\n",
      "[11:54:32] WARNING: /Users/runner/work/xgboost/xgboost/python-package/build/temp.macosx-10.9-x86_64-3.7/xgboost/src/learner.cc:1350: Empty dataset at worker: 0\n",
      "[11:54:32] WARNING: /Users/runner/work/xgboost/xgboost/python-package/build/temp.macosx-10.9-x86_64-3.7/xgboost/src/learner.cc:1350: Empty dataset at worker: 0\n",
      "[11:54:32] WARNING: /Users/runner/work/xgboost/xgboost/python-package/build/temp.macosx-10.9-x86_64-3.7/xgboost/src/learner.cc:1350: Empty dataset at worker: 0\n",
      "[11:54:32] WARNING: /Users/runner/work/xgboost/xgboost/python-package/build/temp.macosx-10.9-x86_64-3.7/xgboost/src/learner.cc:1350: Empty dataset at worker: 0\n",
      "[11:54:32] WARNING: /Users/runner/work/xgboost/xgboost/python-package/build/temp.macosx-10.9-x86_64-3.7/xgboost/src/learner.cc:1350: Empty dataset at worker: 0\n",
      "[11:54:32] WARNING: /Users/runner/work/xgboost/xgboost/python-package/build/temp.macosx-10.9-x86_64-3.7/xgboost/src/learner.cc:1350: Empty dataset at worker: 0\n",
      "[11:54:32] WARNING: /Users/runner/work/xgboost/xgboost/python-package/build/temp.macosx-10.9-x86_64-3.7/xgboost/src/learner.cc:1350: Empty dataset at worker: 0\n",
      "[11:54:32] WARNING: /Users/runner/work/xgboost/xgboost/python-package/build/temp.macosx-10.9-x86_64-3.7/xgboost/src/learner.cc:1350: Empty dataset at worker: 0\n",
      "[11:54:32] WARNING: /Users/runner/work/xgboost/xgboost/python-package/build/temp.macosx-10.9-x86_64-3.7/xgboost/src/learner.cc:1350: Empty dataset at worker: 0\n",
      "[11:54:32] WARNING: /Users/runner/work/xgboost/xgboost/python-package/build/temp.macosx-10.9-x86_64-3.7/xgboost/src/learner.cc:1350: Empty dataset at worker: 0\n",
      "[11:54:32] WARNING: /Users/runner/work/xgboost/xgboost/python-package/build/temp.macosx-10.9-x86_64-3.7/xgboost/src/learner.cc:1350: Empty dataset at worker: 0\n",
      "[11:54:32] WARNING: /Users/runner/work/xgboost/xgboost/python-package/build/temp.macosx-10.9-x86_64-3.7/xgboost/src/learner.cc:1350: Empty dataset at worker: 0\n",
      "[11:54:32] WARNING: /Users/runner/work/xgboost/xgboost/python-package/build/temp.macosx-10.9-x86_64-3.7/xgboost/src/learner.cc:1350: Empty dataset at worker: 0\n",
      "[11:54:32] WARNING: /Users/runner/work/xgboost/xgboost/python-package/build/temp.macosx-10.9-x86_64-3.7/xgboost/src/learner.cc:1350: Empty dataset at worker: 0\n",
      "[11:54:32] WARNING: /Users/runner/work/xgboost/xgboost/python-package/build/temp.macosx-10.9-x86_64-3.7/xgboost/src/learner.cc:1350: Empty dataset at worker: 0\n",
      "[11:54:32] WARNING: /Users/runner/work/xgboost/xgboost/python-package/build/temp.macosx-10.9-x86_64-3.7/xgboost/src/learner.cc:1350: Empty dataset at worker: 0\n",
      "[11:54:32] WARNING: /Users/runner/work/xgboost/xgboost/python-package/build/temp.macosx-10.9-x86_64-3.7/xgboost/src/learner.cc:1350: Empty dataset at worker: 0\n",
      "[11:54:32] WARNING: /Users/runner/work/xgboost/xgboost/python-package/build/temp.macosx-10.9-x86_64-3.7/xgboost/src/learner.cc:1350: Empty dataset at worker: 0\n",
      "[11:54:32] WARNING: /Users/runner/work/xgboost/xgboost/python-package/build/temp.macosx-10.9-x86_64-3.7/xgboost/src/learner.cc:1350: Empty dataset at worker: 0\n",
      "[11:54:32] WARNING: /Users/runner/work/xgboost/xgboost/python-package/build/temp.macosx-10.9-x86_64-3.7/xgboost/src/learner.cc:1350: Empty dataset at worker: 0\n",
      "[11:54:32] WARNING: /Users/runner/work/xgboost/xgboost/python-package/build/temp.macosx-10.9-x86_64-3.7/xgboost/src/learner.cc:1350: Empty dataset at worker: 0\n",
      "[11:54:32] WARNING: /Users/runner/work/xgboost/xgboost/python-package/build/temp.macosx-10.9-x86_64-3.7/xgboost/src/learner.cc:1350: Empty dataset at worker: 0\n",
      "[11:54:32] WARNING: /Users/runner/work/xgboost/xgboost/python-package/build/temp.macosx-10.9-x86_64-3.7/xgboost/src/learner.cc:1350: Empty dataset at worker: 0\n",
      "[11:54:32] WARNING: /Users/runner/work/xgboost/xgboost/python-package/build/temp.macosx-10.9-x86_64-3.7/xgboost/src/learner.cc:1350: Empty dataset at worker: 0\n",
      "[11:54:32] WARNING: /Users/runner/work/xgboost/xgboost/python-package/build/temp.macosx-10.9-x86_64-3.7/xgboost/src/learner.cc:1350: Empty dataset at worker: 0\n",
      "[11:54:32] WARNING: /Users/runner/work/xgboost/xgboost/python-package/build/temp.macosx-10.9-x86_64-3.7/xgboost/src/learner.cc:1350: Empty dataset at worker: 0\n",
      "[11:54:32] WARNING: /Users/runner/work/xgboost/xgboost/python-package/build/temp.macosx-10.9-x86_64-3.7/xgboost/src/learner.cc:1350: Empty dataset at worker: 0\n",
      "[11:54:32] WARNING: /Users/runner/work/xgboost/xgboost/python-package/build/temp.macosx-10.9-x86_64-3.7/xgboost/src/learner.cc:1350: Empty dataset at worker: 0\n",
      "[11:54:32] WARNING: /Users/runner/work/xgboost/xgboost/python-package/build/temp.macosx-10.9-x86_64-3.7/xgboost/src/learner.cc:1350: Empty dataset at worker: 0\n",
      "[11:54:32] WARNING: /Users/runner/work/xgboost/xgboost/python-package/build/temp.macosx-10.9-x86_64-3.7/xgboost/src/learner.cc:1350: Empty dataset at worker: 0\n",
      "[11:54:32] WARNING: /Users/runner/work/xgboost/xgboost/python-package/build/temp.macosx-10.9-x86_64-3.7/xgboost/src/learner.cc:1350: Empty dataset at worker: 0\n",
      "[11:54:32] WARNING: /Users/runner/work/xgboost/xgboost/python-package/build/temp.macosx-10.9-x86_64-3.7/xgboost/src/learner.cc:1350: Empty dataset at worker: 0\n",
      "[11:54:32] WARNING: /Users/runner/work/xgboost/xgboost/python-package/build/temp.macosx-10.9-x86_64-3.7/xgboost/src/learner.cc:1350: Empty dataset at worker: 0\n",
      "[11:54:32] WARNING: /Users/runner/work/xgboost/xgboost/python-package/build/temp.macosx-10.9-x86_64-3.7/xgboost/src/learner.cc:1350: Empty dataset at worker: 0\n",
      "[11:54:32] WARNING: /Users/runner/work/xgboost/xgboost/python-package/build/temp.macosx-10.9-x86_64-3.7/xgboost/src/learner.cc:1350: Empty dataset at worker: 0\n",
      "[11:54:32] WARNING: /Users/runner/work/xgboost/xgboost/python-package/build/temp.macosx-10.9-x86_64-3.7/xgboost/src/learner.cc:1350: Empty dataset at worker: 0\n",
      "[11:54:32] WARNING: /Users/runner/work/xgboost/xgboost/python-package/build/temp.macosx-10.9-x86_64-3.7/xgboost/src/learner.cc:1350: Empty dataset at worker: 0\n",
      "[11:54:32] WARNING: /Users/runner/work/xgboost/xgboost/python-package/build/temp.macosx-10.9-x86_64-3.7/xgboost/src/learner.cc:1350: Empty dataset at worker: 0\n",
      "[11:54:32] WARNING: /Users/runner/work/xgboost/xgboost/python-package/build/temp.macosx-10.9-x86_64-3.7/xgboost/src/learner.cc:1350: Empty dataset at worker: 0\n",
      "[11:54:32] WARNING: /Users/runner/work/xgboost/xgboost/python-package/build/temp.macosx-10.9-x86_64-3.7/xgboost/src/learner.cc:1350: Empty dataset at worker: 0\n",
      "[11:54:32] WARNING: /Users/runner/work/xgboost/xgboost/python-package/build/temp.macosx-10.9-x86_64-3.7/xgboost/src/learner.cc:1350: Empty dataset at worker: 0\n",
      "[11:54:32] WARNING: /Users/runner/work/xgboost/xgboost/python-package/build/temp.macosx-10.9-x86_64-3.7/xgboost/src/learner.cc:1350: Empty dataset at worker: 0\n",
      "[11:54:32] WARNING: /Users/runner/work/xgboost/xgboost/python-package/build/temp.macosx-10.9-x86_64-3.7/xgboost/src/learner.cc:1350: Empty dataset at worker: 0\n",
      "[11:54:32] WARNING: /Users/runner/work/xgboost/xgboost/python-package/build/temp.macosx-10.9-x86_64-3.7/xgboost/src/learner.cc:1350: Empty dataset at worker: 0\n",
      "[11:54:32] WARNING: /Users/runner/work/xgboost/xgboost/python-package/build/temp.macosx-10.9-x86_64-3.7/xgboost/src/learner.cc:1350: Empty dataset at worker: 0\n",
      "[11:54:32] WARNING: /Users/runner/work/xgboost/xgboost/python-package/build/temp.macosx-10.9-x86_64-3.7/xgboost/src/learner.cc:1350: Empty dataset at worker: 0\n",
      "[11:54:32] WARNING: /Users/runner/work/xgboost/xgboost/python-package/build/temp.macosx-10.9-x86_64-3.7/xgboost/src/learner.cc:1350: Empty dataset at worker: 0\n",
      "[11:54:32] WARNING: /Users/runner/work/xgboost/xgboost/python-package/build/temp.macosx-10.9-x86_64-3.7/xgboost/src/learner.cc:1350: Empty dataset at worker: 0\n",
      "[11:54:32] WARNING: /Users/runner/work/xgboost/xgboost/python-package/build/temp.macosx-10.9-x86_64-3.7/xgboost/src/learner.cc:1350: Empty dataset at worker: 0\n",
      "[11:54:32] WARNING: /Users/runner/work/xgboost/xgboost/python-package/build/temp.macosx-10.9-x86_64-3.7/xgboost/src/learner.cc:1350: Empty dataset at worker: 0\n",
      "[11:54:32] WARNING: /Users/runner/work/xgboost/xgboost/python-package/build/temp.macosx-10.9-x86_64-3.7/xgboost/src/learner.cc:1350: Empty dataset at worker: 0\n",
      "[11:54:32] WARNING: /Users/runner/work/xgboost/xgboost/python-package/build/temp.macosx-10.9-x86_64-3.7/xgboost/src/learner.cc:1350: Empty dataset at worker: 0\n",
      "[11:54:32] WARNING: /Users/runner/work/xgboost/xgboost/python-package/build/temp.macosx-10.9-x86_64-3.7/xgboost/src/learner.cc:1350: Empty dataset at worker: 0\n",
      "[11:54:32] WARNING: /Users/runner/work/xgboost/xgboost/python-package/build/temp.macosx-10.9-x86_64-3.7/xgboost/src/learner.cc:1350: Empty dataset at worker: 0\n",
      "[11:54:32] WARNING: /Users/runner/work/xgboost/xgboost/python-package/build/temp.macosx-10.9-x86_64-3.7/xgboost/src/learner.cc:1350: Empty dataset at worker: 0\n",
      "[11:54:32] WARNING: /Users/runner/work/xgboost/xgboost/python-package/build/temp.macosx-10.9-x86_64-3.7/xgboost/src/learner.cc:1350: Empty dataset at worker: 0\n",
      "[11:54:32] WARNING: /Users/runner/work/xgboost/xgboost/python-package/build/temp.macosx-10.9-x86_64-3.7/xgboost/src/learner.cc:1350: Empty dataset at worker: 0\n",
      "[11:54:32] WARNING: /Users/runner/work/xgboost/xgboost/python-package/build/temp.macosx-10.9-x86_64-3.7/xgboost/src/learner.cc:1350: Empty dataset at worker: 0\n",
      "[11:54:32] WARNING: /Users/runner/work/xgboost/xgboost/python-package/build/temp.macosx-10.9-x86_64-3.7/xgboost/src/learner.cc:1350: Empty dataset at worker: 0\n",
      "[11:54:32] WARNING: /Users/runner/work/xgboost/xgboost/python-package/build/temp.macosx-10.9-x86_64-3.7/xgboost/src/learner.cc:1350: Empty dataset at worker: 0\n",
      "[11:54:32] WARNING: /Users/runner/work/xgboost/xgboost/python-package/build/temp.macosx-10.9-x86_64-3.7/xgboost/src/learner.cc:1350: Empty dataset at worker: 0\n",
      "[11:54:32] WARNING: /Users/runner/work/xgboost/xgboost/python-package/build/temp.macosx-10.9-x86_64-3.7/xgboost/src/learner.cc:1350: Empty dataset at worker: 0\n",
      "[11:54:32] WARNING: /Users/runner/work/xgboost/xgboost/python-package/build/temp.macosx-10.9-x86_64-3.7/xgboost/src/learner.cc:1350: Empty dataset at worker: 0\n",
      "[11:54:32] WARNING: /Users/runner/work/xgboost/xgboost/python-package/build/temp.macosx-10.9-x86_64-3.7/xgboost/src/learner.cc:1350: Empty dataset at worker: 0\n",
      "[11:54:32] WARNING: /Users/runner/work/xgboost/xgboost/python-package/build/temp.macosx-10.9-x86_64-3.7/xgboost/src/learner.cc:1350: Empty dataset at worker: 0\n",
      "[11:54:32] WARNING: /Users/runner/work/xgboost/xgboost/python-package/build/temp.macosx-10.9-x86_64-3.7/xgboost/src/learner.cc:1350: Empty dataset at worker: 0\n",
      "[11:54:32] WARNING: /Users/runner/work/xgboost/xgboost/python-package/build/temp.macosx-10.9-x86_64-3.7/xgboost/src/learner.cc:1350: Empty dataset at worker: 0\n",
      "[11:54:32] WARNING: /Users/runner/work/xgboost/xgboost/python-package/build/temp.macosx-10.9-x86_64-3.7/xgboost/src/learner.cc:1350: Empty dataset at worker: 0\n",
      "[11:54:32] WARNING: /Users/runner/work/xgboost/xgboost/python-package/build/temp.macosx-10.9-x86_64-3.7/xgboost/src/learner.cc:1350: Empty dataset at worker: 0\n",
      "[11:54:32] WARNING: /Users/runner/work/xgboost/xgboost/python-package/build/temp.macosx-10.9-x86_64-3.7/xgboost/src/learner.cc:1350: Empty dataset at worker: 0\n",
      "[11:54:32] WARNING: /Users/runner/work/xgboost/xgboost/python-package/build/temp.macosx-10.9-x86_64-3.7/xgboost/src/learner.cc:1350: Empty dataset at worker: 0\n",
      "[11:54:32] WARNING: /Users/runner/work/xgboost/xgboost/python-package/build/temp.macosx-10.9-x86_64-3.7/xgboost/src/learner.cc:1350: Empty dataset at worker: 0\n",
      "[11:54:32] WARNING: /Users/runner/work/xgboost/xgboost/python-package/build/temp.macosx-10.9-x86_64-3.7/xgboost/src/learner.cc:1350: Empty dataset at worker: 0\n",
      "[11:54:32] WARNING: /Users/runner/work/xgboost/xgboost/python-package/build/temp.macosx-10.9-x86_64-3.7/xgboost/src/learner.cc:1350: Empty dataset at worker: 0\n",
      "[11:54:32] WARNING: /Users/runner/work/xgboost/xgboost/python-package/build/temp.macosx-10.9-x86_64-3.7/xgboost/src/learner.cc:1350: Empty dataset at worker: 0\n",
      "[11:54:32] WARNING: /Users/runner/work/xgboost/xgboost/python-package/build/temp.macosx-10.9-x86_64-3.7/xgboost/src/learner.cc:1350: Empty dataset at worker: 0\n",
      "[11:54:32] WARNING: /Users/runner/work/xgboost/xgboost/python-package/build/temp.macosx-10.9-x86_64-3.7/xgboost/src/learner.cc:1350: Empty dataset at worker: 0\n",
      "[11:54:32] WARNING: /Users/runner/work/xgboost/xgboost/python-package/build/temp.macosx-10.9-x86_64-3.7/xgboost/src/learner.cc:1350: Empty dataset at worker: 0\n",
      "[11:54:32] WARNING: /Users/runner/work/xgboost/xgboost/python-package/build/temp.macosx-10.9-x86_64-3.7/xgboost/src/learner.cc:1350: Empty dataset at worker: 0\n",
      "[11:54:32] WARNING: /Users/runner/work/xgboost/xgboost/python-package/build/temp.macosx-10.9-x86_64-3.7/xgboost/src/learner.cc:1350: Empty dataset at worker: 0\n",
      "[11:54:32] WARNING: /Users/runner/work/xgboost/xgboost/python-package/build/temp.macosx-10.9-x86_64-3.7/xgboost/src/learner.cc:1350: Empty dataset at worker: 0\n",
      "[11:54:32] WARNING: /Users/runner/work/xgboost/xgboost/python-package/build/temp.macosx-10.9-x86_64-3.7/xgboost/src/learner.cc:1350: Empty dataset at worker: 0\n",
      "[11:54:32] WARNING: /Users/runner/work/xgboost/xgboost/python-package/build/temp.macosx-10.9-x86_64-3.7/xgboost/src/learner.cc:1350: Empty dataset at worker: 0\n",
      "[11:54:32] WARNING: /Users/runner/work/xgboost/xgboost/python-package/build/temp.macosx-10.9-x86_64-3.7/xgboost/src/learner.cc:1350: Empty dataset at worker: 0\n",
      "[11:54:32] WARNING: /Users/runner/work/xgboost/xgboost/python-package/build/temp.macosx-10.9-x86_64-3.7/xgboost/src/learner.cc:1350: Empty dataset at worker: 0\n",
      "[11:54:32] WARNING: /Users/runner/work/xgboost/xgboost/python-package/build/temp.macosx-10.9-x86_64-3.7/xgboost/src/learner.cc:1350: Empty dataset at worker: 0\n",
      "[11:54:32] WARNING: /Users/runner/work/xgboost/xgboost/python-package/build/temp.macosx-10.9-x86_64-3.7/xgboost/src/learner.cc:1350: Empty dataset at worker: 0\n",
      "[11:54:32] WARNING: /Users/runner/work/xgboost/xgboost/python-package/build/temp.macosx-10.9-x86_64-3.7/xgboost/src/learner.cc:1350: Empty dataset at worker: 0\n",
      "[11:54:32] WARNING: /Users/runner/work/xgboost/xgboost/python-package/build/temp.macosx-10.9-x86_64-3.7/xgboost/src/learner.cc:1350: Empty dataset at worker: 0\n",
      "[11:54:32] WARNING: /Users/runner/work/xgboost/xgboost/python-package/build/temp.macosx-10.9-x86_64-3.7/xgboost/src/learner.cc:1350: Empty dataset at worker: 0\n",
      "[11:54:32] WARNING: /Users/runner/work/xgboost/xgboost/python-package/build/temp.macosx-10.9-x86_64-3.7/xgboost/src/learner.cc:1350: Empty dataset at worker: 0\n",
      "[11:54:32] WARNING: /Users/runner/work/xgboost/xgboost/python-package/build/temp.macosx-10.9-x86_64-3.7/xgboost/src/learner.cc:1350: Empty dataset at worker: 0\n",
      "[11:54:32] WARNING: /Users/runner/work/xgboost/xgboost/python-package/build/temp.macosx-10.9-x86_64-3.7/xgboost/src/learner.cc:1350: Empty dataset at worker: 0\n",
      "[11:54:32] WARNING: /Users/runner/work/xgboost/xgboost/python-package/build/temp.macosx-10.9-x86_64-3.7/xgboost/src/learner.cc:1350: Empty dataset at worker: 0\n",
      "[11:54:32] WARNING: /Users/runner/work/xgboost/xgboost/python-package/build/temp.macosx-10.9-x86_64-3.7/xgboost/src/learner.cc:1350: Empty dataset at worker: 0\n",
      "[11:54:32] WARNING: /Users/runner/work/xgboost/xgboost/python-package/build/temp.macosx-10.9-x86_64-3.7/xgboost/src/learner.cc:1350: Empty dataset at worker: 0\n",
      "[11:54:32] WARNING: /Users/runner/work/xgboost/xgboost/python-package/build/temp.macosx-10.9-x86_64-3.7/xgboost/src/learner.cc:1350: Empty dataset at worker: 0\n",
      "[11:54:32] WARNING: /Users/runner/work/xgboost/xgboost/python-package/build/temp.macosx-10.9-x86_64-3.7/xgboost/src/learner.cc:1350: Empty dataset at worker: 0\n",
      "[11:54:32] WARNING: /Users/runner/work/xgboost/xgboost/python-package/build/temp.macosx-10.9-x86_64-3.7/xgboost/src/learner.cc:1350: Empty dataset at worker: 0\n",
      "[11:54:32] WARNING: /Users/runner/work/xgboost/xgboost/python-package/build/temp.macosx-10.9-x86_64-3.7/xgboost/src/learner.cc:1350: Empty dataset at worker: 0\n",
      "[11:54:32] WARNING: /Users/runner/work/xgboost/xgboost/python-package/build/temp.macosx-10.9-x86_64-3.7/xgboost/src/learner.cc:1350: Empty dataset at worker: 0\n",
      "[11:54:32] WARNING: /Users/runner/work/xgboost/xgboost/python-package/build/temp.macosx-10.9-x86_64-3.7/xgboost/src/learner.cc:1350: Empty dataset at worker: 0\n",
      "[11:54:32] WARNING: /Users/runner/work/xgboost/xgboost/python-package/build/temp.macosx-10.9-x86_64-3.7/xgboost/src/learner.cc:1350: Empty dataset at worker: 0\n",
      "[11:54:32] WARNING: /Users/runner/work/xgboost/xgboost/python-package/build/temp.macosx-10.9-x86_64-3.7/xgboost/src/learner.cc:1350: Empty dataset at worker: 0\n",
      "[11:54:32] WARNING: /Users/runner/work/xgboost/xgboost/python-package/build/temp.macosx-10.9-x86_64-3.7/xgboost/src/learner.cc:1350: Empty dataset at worker: 0\n",
      "[11:54:32] WARNING: /Users/runner/work/xgboost/xgboost/python-package/build/temp.macosx-10.9-x86_64-3.7/xgboost/src/learner.cc:1350: Empty dataset at worker: 0\n",
      "[11:54:32] WARNING: /Users/runner/work/xgboost/xgboost/python-package/build/temp.macosx-10.9-x86_64-3.7/xgboost/src/learner.cc:1350: Empty dataset at worker: 0\n",
      "[11:54:32] WARNING: /Users/runner/work/xgboost/xgboost/python-package/build/temp.macosx-10.9-x86_64-3.7/xgboost/src/learner.cc:1350: Empty dataset at worker: 0\n",
      "[11:54:32] WARNING: /Users/runner/work/xgboost/xgboost/python-package/build/temp.macosx-10.9-x86_64-3.7/xgboost/src/learner.cc:1350: Empty dataset at worker: 0\n",
      "[11:54:32] WARNING: /Users/runner/work/xgboost/xgboost/python-package/build/temp.macosx-10.9-x86_64-3.7/xgboost/src/learner.cc:1350: Empty dataset at worker: 0\n",
      "[11:54:32] WARNING: /Users/runner/work/xgboost/xgboost/python-package/build/temp.macosx-10.9-x86_64-3.7/xgboost/src/learner.cc:1350: Empty dataset at worker: 0\n",
      "[11:54:32] WARNING: /Users/runner/work/xgboost/xgboost/python-package/build/temp.macosx-10.9-x86_64-3.7/xgboost/src/learner.cc:1350: Empty dataset at worker: 0\n",
      "[11:54:32] WARNING: /Users/runner/work/xgboost/xgboost/python-package/build/temp.macosx-10.9-x86_64-3.7/xgboost/src/learner.cc:1350: Empty dataset at worker: 0\n",
      "[11:54:32] WARNING: /Users/runner/work/xgboost/xgboost/python-package/build/temp.macosx-10.9-x86_64-3.7/xgboost/src/learner.cc:1350: Empty dataset at worker: 0\n",
      "[11:54:32] WARNING: /Users/runner/work/xgboost/xgboost/python-package/build/temp.macosx-10.9-x86_64-3.7/xgboost/src/learner.cc:1350: Empty dataset at worker: 0\n",
      "[11:54:32] WARNING: /Users/runner/work/xgboost/xgboost/python-package/build/temp.macosx-10.9-x86_64-3.7/xgboost/src/learner.cc:1350: Empty dataset at worker: 0\n",
      "[11:54:32] WARNING: /Users/runner/work/xgboost/xgboost/python-package/build/temp.macosx-10.9-x86_64-3.7/xgboost/src/learner.cc:1350: Empty dataset at worker: 0\n",
      "[11:54:32] WARNING: /Users/runner/work/xgboost/xgboost/python-package/build/temp.macosx-10.9-x86_64-3.7/xgboost/src/learner.cc:1350: Empty dataset at worker: 0\n",
      "[11:54:32] WARNING: /Users/runner/work/xgboost/xgboost/python-package/build/temp.macosx-10.9-x86_64-3.7/xgboost/src/learner.cc:1350: Empty dataset at worker: 0\n",
      "[11:54:32] WARNING: /Users/runner/work/xgboost/xgboost/python-package/build/temp.macosx-10.9-x86_64-3.7/xgboost/src/learner.cc:1350: Empty dataset at worker: 0\n",
      "[11:54:32] WARNING: /Users/runner/work/xgboost/xgboost/python-package/build/temp.macosx-10.9-x86_64-3.7/xgboost/src/learner.cc:1350: Empty dataset at worker: 0\n",
      "[11:54:32] WARNING: /Users/runner/work/xgboost/xgboost/python-package/build/temp.macosx-10.9-x86_64-3.7/xgboost/src/learner.cc:1350: Empty dataset at worker: 0\n",
      "[11:54:32] WARNING: /Users/runner/work/xgboost/xgboost/python-package/build/temp.macosx-10.9-x86_64-3.7/xgboost/src/learner.cc:1350: Empty dataset at worker: 0\n",
      "[11:54:32] WARNING: /Users/runner/work/xgboost/xgboost/python-package/build/temp.macosx-10.9-x86_64-3.7/xgboost/src/learner.cc:1350: Empty dataset at worker: 0\n",
      "[11:54:32] WARNING: /Users/runner/work/xgboost/xgboost/python-package/build/temp.macosx-10.9-x86_64-3.7/xgboost/src/learner.cc:1350: Empty dataset at worker: 0\n",
      "[11:54:32] WARNING: /Users/runner/work/xgboost/xgboost/python-package/build/temp.macosx-10.9-x86_64-3.7/xgboost/src/learner.cc:1350: Empty dataset at worker: 0\n",
      "[11:54:32] WARNING: /Users/runner/work/xgboost/xgboost/python-package/build/temp.macosx-10.9-x86_64-3.7/xgboost/src/learner.cc:1350: Empty dataset at worker: 0\n",
      "[11:54:32] WARNING: /Users/runner/work/xgboost/xgboost/python-package/build/temp.macosx-10.9-x86_64-3.7/xgboost/src/learner.cc:1350: Empty dataset at worker: 0\n",
      "[11:54:32] WARNING: /Users/runner/work/xgboost/xgboost/python-package/build/temp.macosx-10.9-x86_64-3.7/xgboost/src/learner.cc:1350: Empty dataset at worker: 0\n",
      "[11:54:32] WARNING: /Users/runner/work/xgboost/xgboost/python-package/build/temp.macosx-10.9-x86_64-3.7/xgboost/src/learner.cc:1350: Empty dataset at worker: 0\n",
      "[11:54:32] WARNING: /Users/runner/work/xgboost/xgboost/python-package/build/temp.macosx-10.9-x86_64-3.7/xgboost/src/learner.cc:1350: Empty dataset at worker: 0\n",
      "[11:54:32] WARNING: /Users/runner/work/xgboost/xgboost/python-package/build/temp.macosx-10.9-x86_64-3.7/xgboost/src/learner.cc:1350: Empty dataset at worker: 0\n",
      "[11:54:32] WARNING: /Users/runner/work/xgboost/xgboost/python-package/build/temp.macosx-10.9-x86_64-3.7/xgboost/src/learner.cc:1350: Empty dataset at worker: 0\n",
      "[11:54:32] WARNING: /Users/runner/work/xgboost/xgboost/python-package/build/temp.macosx-10.9-x86_64-3.7/xgboost/src/learner.cc:1350: Empty dataset at worker: 0\n",
      "[11:54:32] WARNING: /Users/runner/work/xgboost/xgboost/python-package/build/temp.macosx-10.9-x86_64-3.7/xgboost/src/learner.cc:1350: Empty dataset at worker: 0\n",
      "[11:54:32] WARNING: /Users/runner/work/xgboost/xgboost/python-package/build/temp.macosx-10.9-x86_64-3.7/xgboost/src/learner.cc:1350: Empty dataset at worker: 0\n",
      "[11:54:32] WARNING: /Users/runner/work/xgboost/xgboost/python-package/build/temp.macosx-10.9-x86_64-3.7/xgboost/src/learner.cc:1350: Empty dataset at worker: 0\n",
      "[11:54:32] WARNING: /Users/runner/work/xgboost/xgboost/python-package/build/temp.macosx-10.9-x86_64-3.7/xgboost/src/learner.cc:1350: Empty dataset at worker: 0\n",
      "[11:54:32] WARNING: /Users/runner/work/xgboost/xgboost/python-package/build/temp.macosx-10.9-x86_64-3.7/xgboost/src/learner.cc:1350: Empty dataset at worker: 0\n",
      "[11:54:32] WARNING: /Users/runner/work/xgboost/xgboost/python-package/build/temp.macosx-10.9-x86_64-3.7/xgboost/src/learner.cc:1350: Empty dataset at worker: 0\n",
      "[11:54:32] WARNING: /Users/runner/work/xgboost/xgboost/python-package/build/temp.macosx-10.9-x86_64-3.7/xgboost/src/learner.cc:1350: Empty dataset at worker: 0\n",
      "[11:54:32] WARNING: /Users/runner/work/xgboost/xgboost/python-package/build/temp.macosx-10.9-x86_64-3.7/xgboost/src/learner.cc:1350: Empty dataset at worker: 0\n",
      "[11:54:32] WARNING: /Users/runner/work/xgboost/xgboost/python-package/build/temp.macosx-10.9-x86_64-3.7/xgboost/src/learner.cc:1350: Empty dataset at worker: 0\n",
      "[11:54:32] WARNING: /Users/runner/work/xgboost/xgboost/python-package/build/temp.macosx-10.9-x86_64-3.7/xgboost/src/learner.cc:1350: Empty dataset at worker: 0\n",
      "[11:54:32] WARNING: /Users/runner/work/xgboost/xgboost/python-package/build/temp.macosx-10.9-x86_64-3.7/xgboost/src/learner.cc:1350: Empty dataset at worker: 0\n",
      "[11:54:32] WARNING: /Users/runner/work/xgboost/xgboost/python-package/build/temp.macosx-10.9-x86_64-3.7/xgboost/src/learner.cc:1350: Empty dataset at worker: 0\n",
      "[11:54:32] WARNING: /Users/runner/work/xgboost/xgboost/python-package/build/temp.macosx-10.9-x86_64-3.7/xgboost/src/learner.cc:1350: Empty dataset at worker: 0\n",
      "[11:54:32] WARNING: /Users/runner/work/xgboost/xgboost/python-package/build/temp.macosx-10.9-x86_64-3.7/xgboost/src/learner.cc:1350: Empty dataset at worker: 0\n",
      "[11:54:32] WARNING: /Users/runner/work/xgboost/xgboost/python-package/build/temp.macosx-10.9-x86_64-3.7/xgboost/src/learner.cc:1350: Empty dataset at worker: 0\n",
      "[11:54:32] WARNING: /Users/runner/work/xgboost/xgboost/python-package/build/temp.macosx-10.9-x86_64-3.7/xgboost/src/learner.cc:1350: Empty dataset at worker: 0\n",
      "[11:54:32] WARNING: /Users/runner/work/xgboost/xgboost/python-package/build/temp.macosx-10.9-x86_64-3.7/xgboost/src/learner.cc:1350: Empty dataset at worker: 0\n",
      "[11:54:32] WARNING: /Users/runner/work/xgboost/xgboost/python-package/build/temp.macosx-10.9-x86_64-3.7/xgboost/src/learner.cc:1350: Empty dataset at worker: 0\n",
      "[11:54:32] WARNING: /Users/runner/work/xgboost/xgboost/python-package/build/temp.macosx-10.9-x86_64-3.7/xgboost/src/learner.cc:1350: Empty dataset at worker: 0\n",
      "[11:54:32] WARNING: /Users/runner/work/xgboost/xgboost/python-package/build/temp.macosx-10.9-x86_64-3.7/xgboost/src/learner.cc:1350: Empty dataset at worker: 0\n",
      "[11:54:32] WARNING: /Users/runner/work/xgboost/xgboost/python-package/build/temp.macosx-10.9-x86_64-3.7/xgboost/src/learner.cc:1350: Empty dataset at worker: 0\n",
      "[11:54:32] WARNING: /Users/runner/work/xgboost/xgboost/python-package/build/temp.macosx-10.9-x86_64-3.7/xgboost/src/learner.cc:1350: Empty dataset at worker: 0\n",
      "[11:54:32] WARNING: /Users/runner/work/xgboost/xgboost/python-package/build/temp.macosx-10.9-x86_64-3.7/xgboost/src/learner.cc:1350: Empty dataset at worker: 0\n",
      "[11:54:32] WARNING: /Users/runner/work/xgboost/xgboost/python-package/build/temp.macosx-10.9-x86_64-3.7/xgboost/src/learner.cc:1350: Empty dataset at worker: 0\n",
      "[11:54:32] WARNING: /Users/runner/work/xgboost/xgboost/python-package/build/temp.macosx-10.9-x86_64-3.7/xgboost/src/learner.cc:1350: Empty dataset at worker: 0\n",
      "[11:54:32] WARNING: /Users/runner/work/xgboost/xgboost/python-package/build/temp.macosx-10.9-x86_64-3.7/xgboost/src/learner.cc:1350: Empty dataset at worker: 0\n",
      "[11:54:32] WARNING: /Users/runner/work/xgboost/xgboost/python-package/build/temp.macosx-10.9-x86_64-3.7/xgboost/src/learner.cc:1350: Empty dataset at worker: 0\n",
      "[11:54:32] WARNING: /Users/runner/work/xgboost/xgboost/python-package/build/temp.macosx-10.9-x86_64-3.7/xgboost/src/learner.cc:1350: Empty dataset at worker: 0\n",
      "[11:54:32] WARNING: /Users/runner/work/xgboost/xgboost/python-package/build/temp.macosx-10.9-x86_64-3.7/xgboost/src/learner.cc:1350: Empty dataset at worker: 0\n",
      "[11:54:32] WARNING: /Users/runner/work/xgboost/xgboost/python-package/build/temp.macosx-10.9-x86_64-3.7/xgboost/src/learner.cc:1350: Empty dataset at worker: 0\n",
      "[11:54:32] WARNING: /Users/runner/work/xgboost/xgboost/python-package/build/temp.macosx-10.9-x86_64-3.7/xgboost/src/learner.cc:1350: Empty dataset at worker: 0\n",
      "[11:54:32] WARNING: /Users/runner/work/xgboost/xgboost/python-package/build/temp.macosx-10.9-x86_64-3.7/xgboost/src/learner.cc:1350: Empty dataset at worker: 0\n",
      "[11:54:32] WARNING: /Users/runner/work/xgboost/xgboost/python-package/build/temp.macosx-10.9-x86_64-3.7/xgboost/src/learner.cc:1350: Empty dataset at worker: 0\n",
      "[11:54:32] WARNING: /Users/runner/work/xgboost/xgboost/python-package/build/temp.macosx-10.9-x86_64-3.7/xgboost/src/learner.cc:1350: Empty dataset at worker: 0\n",
      "[11:54:32] WARNING: /Users/runner/work/xgboost/xgboost/python-package/build/temp.macosx-10.9-x86_64-3.7/xgboost/src/learner.cc:1350: Empty dataset at worker: 0\n",
      "[11:54:32] WARNING: /Users/runner/work/xgboost/xgboost/python-package/build/temp.macosx-10.9-x86_64-3.7/xgboost/src/learner.cc:1350: Empty dataset at worker: 0\n",
      "[11:54:32] WARNING: /Users/runner/work/xgboost/xgboost/python-package/build/temp.macosx-10.9-x86_64-3.7/xgboost/src/learner.cc:1350: Empty dataset at worker: 0\n",
      "[11:54:32] WARNING: /Users/runner/work/xgboost/xgboost/python-package/build/temp.macosx-10.9-x86_64-3.7/xgboost/src/learner.cc:1350: Empty dataset at worker: 0\n",
      "[11:54:32] WARNING: /Users/runner/work/xgboost/xgboost/python-package/build/temp.macosx-10.9-x86_64-3.7/xgboost/src/learner.cc:1350: Empty dataset at worker: 0\n",
      "[11:54:32] WARNING: /Users/runner/work/xgboost/xgboost/python-package/build/temp.macosx-10.9-x86_64-3.7/xgboost/src/learner.cc:1350: Empty dataset at worker: 0\n",
      "[11:54:32] WARNING: /Users/runner/work/xgboost/xgboost/python-package/build/temp.macosx-10.9-x86_64-3.7/xgboost/src/learner.cc:1350: Empty dataset at worker: 0\n",
      "[11:54:32] WARNING: /Users/runner/work/xgboost/xgboost/python-package/build/temp.macosx-10.9-x86_64-3.7/xgboost/src/learner.cc:1350: Empty dataset at worker: 0\n",
      "[11:54:32] WARNING: /Users/runner/work/xgboost/xgboost/python-package/build/temp.macosx-10.9-x86_64-3.7/xgboost/src/learner.cc:1350: Empty dataset at worker: 0\n",
      "[11:54:32] WARNING: /Users/runner/work/xgboost/xgboost/python-package/build/temp.macosx-10.9-x86_64-3.7/xgboost/src/learner.cc:1350: Empty dataset at worker: 0\n",
      "[11:54:32] WARNING: /Users/runner/work/xgboost/xgboost/python-package/build/temp.macosx-10.9-x86_64-3.7/xgboost/src/learner.cc:1350: Empty dataset at worker: 0\n",
      "[11:54:32] WARNING: /Users/runner/work/xgboost/xgboost/python-package/build/temp.macosx-10.9-x86_64-3.7/xgboost/src/learner.cc:1350: Empty dataset at worker: 0\n",
      "[11:54:32] WARNING: /Users/runner/work/xgboost/xgboost/python-package/build/temp.macosx-10.9-x86_64-3.7/xgboost/src/learner.cc:1350: Empty dataset at worker: 0\n",
      "[11:54:32] WARNING: /Users/runner/work/xgboost/xgboost/python-package/build/temp.macosx-10.9-x86_64-3.7/xgboost/src/learner.cc:1350: Empty dataset at worker: 0\n",
      "[11:54:32] WARNING: /Users/runner/work/xgboost/xgboost/python-package/build/temp.macosx-10.9-x86_64-3.7/xgboost/src/learner.cc:1350: Empty dataset at worker: 0\n",
      "[11:54:32] WARNING: /Users/runner/work/xgboost/xgboost/python-package/build/temp.macosx-10.9-x86_64-3.7/xgboost/src/learner.cc:1350: Empty dataset at worker: 0\n",
      "[11:54:32] WARNING: /Users/runner/work/xgboost/xgboost/python-package/build/temp.macosx-10.9-x86_64-3.7/xgboost/src/learner.cc:1350: Empty dataset at worker: 0\n",
      "[11:54:32] WARNING: /Users/runner/work/xgboost/xgboost/python-package/build/temp.macosx-10.9-x86_64-3.7/xgboost/src/learner.cc:1350: Empty dataset at worker: 0\n",
      "[11:54:32] WARNING: /Users/runner/work/xgboost/xgboost/python-package/build/temp.macosx-10.9-x86_64-3.7/xgboost/src/learner.cc:1350: Empty dataset at worker: 0\n",
      "[11:54:32] WARNING: /Users/runner/work/xgboost/xgboost/python-package/build/temp.macosx-10.9-x86_64-3.7/xgboost/src/learner.cc:1350: Empty dataset at worker: 0\n",
      "[11:54:32] WARNING: /Users/runner/work/xgboost/xgboost/python-package/build/temp.macosx-10.9-x86_64-3.7/xgboost/src/learner.cc:1350: Empty dataset at worker: 0\n",
      "[11:54:32] WARNING: /Users/runner/work/xgboost/xgboost/python-package/build/temp.macosx-10.9-x86_64-3.7/xgboost/src/learner.cc:1350: Empty dataset at worker: 0\n",
      "[11:54:32] WARNING: /Users/runner/work/xgboost/xgboost/python-package/build/temp.macosx-10.9-x86_64-3.7/xgboost/src/learner.cc:1350: Empty dataset at worker: 0\n",
      "[11:54:32] WARNING: /Users/runner/work/xgboost/xgboost/python-package/build/temp.macosx-10.9-x86_64-3.7/xgboost/src/learner.cc:1350: Empty dataset at worker: 0\n",
      "[11:54:32] WARNING: /Users/runner/work/xgboost/xgboost/python-package/build/temp.macosx-10.9-x86_64-3.7/xgboost/src/learner.cc:1350: Empty dataset at worker: 0\n",
      "[11:54:32] WARNING: /Users/runner/work/xgboost/xgboost/python-package/build/temp.macosx-10.9-x86_64-3.7/xgboost/src/learner.cc:1350: Empty dataset at worker: 0\n",
      "[11:54:32] WARNING: /Users/runner/work/xgboost/xgboost/python-package/build/temp.macosx-10.9-x86_64-3.7/xgboost/src/learner.cc:1350: Empty dataset at worker: 0\n",
      "[11:54:32] WARNING: /Users/runner/work/xgboost/xgboost/python-package/build/temp.macosx-10.9-x86_64-3.7/xgboost/src/learner.cc:1350: Empty dataset at worker: 0\n",
      "[11:54:32] WARNING: /Users/runner/work/xgboost/xgboost/python-package/build/temp.macosx-10.9-x86_64-3.7/xgboost/src/learner.cc:1350: Empty dataset at worker: 0\n",
      "[11:54:32] WARNING: /Users/runner/work/xgboost/xgboost/python-package/build/temp.macosx-10.9-x86_64-3.7/xgboost/src/learner.cc:1350: Empty dataset at worker: 0\n",
      "[11:54:32] WARNING: /Users/runner/work/xgboost/xgboost/python-package/build/temp.macosx-10.9-x86_64-3.7/xgboost/src/learner.cc:1350: Empty dataset at worker: 0\n",
      "[11:54:32] WARNING: /Users/runner/work/xgboost/xgboost/python-package/build/temp.macosx-10.9-x86_64-3.7/xgboost/src/learner.cc:1350: Empty dataset at worker: 0\n",
      "[11:54:32] WARNING: /Users/runner/work/xgboost/xgboost/python-package/build/temp.macosx-10.9-x86_64-3.7/xgboost/src/learner.cc:1350: Empty dataset at worker: 0\n",
      "[11:54:32] WARNING: /Users/runner/work/xgboost/xgboost/python-package/build/temp.macosx-10.9-x86_64-3.7/xgboost/src/learner.cc:1350: Empty dataset at worker: 0\n",
      "[11:54:32] WARNING: /Users/runner/work/xgboost/xgboost/python-package/build/temp.macosx-10.9-x86_64-3.7/xgboost/src/learner.cc:1350: Empty dataset at worker: 0\n",
      "[11:54:32] WARNING: /Users/runner/work/xgboost/xgboost/python-package/build/temp.macosx-10.9-x86_64-3.7/xgboost/src/learner.cc:1350: Empty dataset at worker: 0\n",
      "[11:54:32] WARNING: /Users/runner/work/xgboost/xgboost/python-package/build/temp.macosx-10.9-x86_64-3.7/xgboost/src/learner.cc:1350: Empty dataset at worker: 0\n",
      "[11:54:32] WARNING: /Users/runner/work/xgboost/xgboost/python-package/build/temp.macosx-10.9-x86_64-3.7/xgboost/src/learner.cc:1350: Empty dataset at worker: 0\n",
      "[11:54:32] WARNING: /Users/runner/work/xgboost/xgboost/python-package/build/temp.macosx-10.9-x86_64-3.7/xgboost/src/learner.cc:1350: Empty dataset at worker: 0\n",
      "[11:54:32] WARNING: /Users/runner/work/xgboost/xgboost/python-package/build/temp.macosx-10.9-x86_64-3.7/xgboost/src/learner.cc:1350: Empty dataset at worker: 0\n",
      "[11:54:32] WARNING: /Users/runner/work/xgboost/xgboost/python-package/build/temp.macosx-10.9-x86_64-3.7/xgboost/src/learner.cc:1350: Empty dataset at worker: 0\n",
      "[11:54:32] WARNING: /Users/runner/work/xgboost/xgboost/python-package/build/temp.macosx-10.9-x86_64-3.7/xgboost/src/learner.cc:1350: Empty dataset at worker: 0\n",
      "[11:54:32] WARNING: /Users/runner/work/xgboost/xgboost/python-package/build/temp.macosx-10.9-x86_64-3.7/xgboost/src/learner.cc:1350: Empty dataset at worker: 0\n",
      "[11:54:32] WARNING: /Users/runner/work/xgboost/xgboost/python-package/build/temp.macosx-10.9-x86_64-3.7/xgboost/src/learner.cc:1350: Empty dataset at worker: 0\n",
      "[11:54:32] WARNING: /Users/runner/work/xgboost/xgboost/python-package/build/temp.macosx-10.9-x86_64-3.7/xgboost/src/learner.cc:1350: Empty dataset at worker: 0\n",
      "[11:54:32] WARNING: /Users/runner/work/xgboost/xgboost/python-package/build/temp.macosx-10.9-x86_64-3.7/xgboost/src/learner.cc:1350: Empty dataset at worker: 0\n",
      "[11:54:32] WARNING: /Users/runner/work/xgboost/xgboost/python-package/build/temp.macosx-10.9-x86_64-3.7/xgboost/src/learner.cc:1350: Empty dataset at worker: 0\n",
      "[11:54:32] WARNING: /Users/runner/work/xgboost/xgboost/python-package/build/temp.macosx-10.9-x86_64-3.7/xgboost/src/learner.cc:1350: Empty dataset at worker: 0\n",
      "[11:54:32] WARNING: /Users/runner/work/xgboost/xgboost/python-package/build/temp.macosx-10.9-x86_64-3.7/xgboost/src/learner.cc:1350: Empty dataset at worker: 0\n",
      "[11:54:32] WARNING: /Users/runner/work/xgboost/xgboost/python-package/build/temp.macosx-10.9-x86_64-3.7/xgboost/src/learner.cc:1350: Empty dataset at worker: 0\n",
      "[11:54:32] WARNING: /Users/runner/work/xgboost/xgboost/python-package/build/temp.macosx-10.9-x86_64-3.7/xgboost/src/learner.cc:1350: Empty dataset at worker: 0\n",
      "[11:54:32] WARNING: /Users/runner/work/xgboost/xgboost/python-package/build/temp.macosx-10.9-x86_64-3.7/xgboost/src/learner.cc:1350: Empty dataset at worker: 0\n",
      "[11:54:32] WARNING: /Users/runner/work/xgboost/xgboost/python-package/build/temp.macosx-10.9-x86_64-3.7/xgboost/src/learner.cc:1350: Empty dataset at worker: 0\n",
      "[11:54:32] WARNING: /Users/runner/work/xgboost/xgboost/python-package/build/temp.macosx-10.9-x86_64-3.7/xgboost/src/learner.cc:1350: Empty dataset at worker: 0\n",
      "[11:54:32] WARNING: /Users/runner/work/xgboost/xgboost/python-package/build/temp.macosx-10.9-x86_64-3.7/xgboost/src/learner.cc:1350: Empty dataset at worker: 0\n",
      "[11:54:32] WARNING: /Users/runner/work/xgboost/xgboost/python-package/build/temp.macosx-10.9-x86_64-3.7/xgboost/src/learner.cc:1350: Empty dataset at worker: 0\n",
      "[11:54:32] WARNING: /Users/runner/work/xgboost/xgboost/python-package/build/temp.macosx-10.9-x86_64-3.7/xgboost/src/learner.cc:1350: Empty dataset at worker: 0\n",
      "[11:54:32] WARNING: /Users/runner/work/xgboost/xgboost/python-package/build/temp.macosx-10.9-x86_64-3.7/xgboost/src/learner.cc:1350: Empty dataset at worker: 0\n",
      "[11:54:32] WARNING: /Users/runner/work/xgboost/xgboost/python-package/build/temp.macosx-10.9-x86_64-3.7/xgboost/src/learner.cc:1350: Empty dataset at worker: 0\n",
      "[11:54:32] WARNING: /Users/runner/work/xgboost/xgboost/python-package/build/temp.macosx-10.9-x86_64-3.7/xgboost/src/learner.cc:1350: Empty dataset at worker: 0\n",
      "[11:54:32] WARNING: /Users/runner/work/xgboost/xgboost/python-package/build/temp.macosx-10.9-x86_64-3.7/xgboost/src/learner.cc:1350: Empty dataset at worker: 0\n",
      "[11:54:32] WARNING: /Users/runner/work/xgboost/xgboost/python-package/build/temp.macosx-10.9-x86_64-3.7/xgboost/src/learner.cc:1350: Empty dataset at worker: 0\n",
      "[11:54:32] WARNING: /Users/runner/work/xgboost/xgboost/python-package/build/temp.macosx-10.9-x86_64-3.7/xgboost/src/learner.cc:1350: Empty dataset at worker: 0\n",
      "[11:54:32] WARNING: /Users/runner/work/xgboost/xgboost/python-package/build/temp.macosx-10.9-x86_64-3.7/xgboost/src/learner.cc:1350: Empty dataset at worker: 0\n",
      "[11:54:32] WARNING: /Users/runner/work/xgboost/xgboost/python-package/build/temp.macosx-10.9-x86_64-3.7/xgboost/src/learner.cc:1350: Empty dataset at worker: 0\n",
      "[11:54:32] WARNING: /Users/runner/work/xgboost/xgboost/python-package/build/temp.macosx-10.9-x86_64-3.7/xgboost/src/learner.cc:1350: Empty dataset at worker: 0\n",
      "[11:54:32] WARNING: /Users/runner/work/xgboost/xgboost/python-package/build/temp.macosx-10.9-x86_64-3.7/xgboost/src/learner.cc:1350: Empty dataset at worker: 0\n",
      "[11:54:32] WARNING: /Users/runner/work/xgboost/xgboost/python-package/build/temp.macosx-10.9-x86_64-3.7/xgboost/src/learner.cc:1350: Empty dataset at worker: 0\n",
      "[11:54:32] WARNING: /Users/runner/work/xgboost/xgboost/python-package/build/temp.macosx-10.9-x86_64-3.7/xgboost/src/learner.cc:1350: Empty dataset at worker: 0\n",
      "[11:54:32] WARNING: /Users/runner/work/xgboost/xgboost/python-package/build/temp.macosx-10.9-x86_64-3.7/xgboost/src/learner.cc:1350: Empty dataset at worker: 0\n",
      "[11:54:32] WARNING: /Users/runner/work/xgboost/xgboost/python-package/build/temp.macosx-10.9-x86_64-3.7/xgboost/src/learner.cc:1350: Empty dataset at worker: 0\n",
      "[11:54:32] WARNING: /Users/runner/work/xgboost/xgboost/python-package/build/temp.macosx-10.9-x86_64-3.7/xgboost/src/learner.cc:1350: Empty dataset at worker: 0\n",
      "[11:54:32] WARNING: /Users/runner/work/xgboost/xgboost/python-package/build/temp.macosx-10.9-x86_64-3.7/xgboost/src/learner.cc:1350: Empty dataset at worker: 0\n",
      "[11:54:32] WARNING: /Users/runner/work/xgboost/xgboost/python-package/build/temp.macosx-10.9-x86_64-3.7/xgboost/src/learner.cc:1350: Empty dataset at worker: 0\n",
      "[11:54:32] WARNING: /Users/runner/work/xgboost/xgboost/python-package/build/temp.macosx-10.9-x86_64-3.7/xgboost/src/learner.cc:1350: Empty dataset at worker: 0\n",
      "[11:54:32] WARNING: /Users/runner/work/xgboost/xgboost/python-package/build/temp.macosx-10.9-x86_64-3.7/xgboost/src/learner.cc:1350: Empty dataset at worker: 0\n",
      "[11:54:32] WARNING: /Users/runner/work/xgboost/xgboost/python-package/build/temp.macosx-10.9-x86_64-3.7/xgboost/src/learner.cc:1350: Empty dataset at worker: 0\n",
      "[11:54:32] WARNING: /Users/runner/work/xgboost/xgboost/python-package/build/temp.macosx-10.9-x86_64-3.7/xgboost/src/learner.cc:1350: Empty dataset at worker: 0\n",
      "[11:54:32] WARNING: /Users/runner/work/xgboost/xgboost/python-package/build/temp.macosx-10.9-x86_64-3.7/xgboost/src/learner.cc:1350: Empty dataset at worker: 0\n",
      "[11:54:32] WARNING: /Users/runner/work/xgboost/xgboost/python-package/build/temp.macosx-10.9-x86_64-3.7/xgboost/src/learner.cc:1350: Empty dataset at worker: 0\n",
      "[11:54:32] WARNING: /Users/runner/work/xgboost/xgboost/python-package/build/temp.macosx-10.9-x86_64-3.7/xgboost/src/learner.cc:1350: Empty dataset at worker: 0\n",
      "[11:54:32] WARNING: /Users/runner/work/xgboost/xgboost/python-package/build/temp.macosx-10.9-x86_64-3.7/xgboost/src/learner.cc:1350: Empty dataset at worker: 0\n",
      "[11:54:32] WARNING: /Users/runner/work/xgboost/xgboost/python-package/build/temp.macosx-10.9-x86_64-3.7/xgboost/src/learner.cc:1350: Empty dataset at worker: 0\n",
      "[11:54:32] WARNING: /Users/runner/work/xgboost/xgboost/python-package/build/temp.macosx-10.9-x86_64-3.7/xgboost/src/learner.cc:1350: Empty dataset at worker: 0\n",
      "[11:54:32] WARNING: /Users/runner/work/xgboost/xgboost/python-package/build/temp.macosx-10.9-x86_64-3.7/xgboost/src/learner.cc:1350: Empty dataset at worker: 0\n",
      "[11:54:32] WARNING: /Users/runner/work/xgboost/xgboost/python-package/build/temp.macosx-10.9-x86_64-3.7/xgboost/src/learner.cc:1350: Empty dataset at worker: 0\n",
      "[11:54:32] WARNING: /Users/runner/work/xgboost/xgboost/python-package/build/temp.macosx-10.9-x86_64-3.7/xgboost/src/learner.cc:1350: Empty dataset at worker: 0\n",
      "[11:54:32] WARNING: /Users/runner/work/xgboost/xgboost/python-package/build/temp.macosx-10.9-x86_64-3.7/xgboost/src/learner.cc:1350: Empty dataset at worker: 0\n",
      "[11:54:32] WARNING: /Users/runner/work/xgboost/xgboost/python-package/build/temp.macosx-10.9-x86_64-3.7/xgboost/src/learner.cc:1350: Empty dataset at worker: 0\n",
      "[11:54:32] WARNING: /Users/runner/work/xgboost/xgboost/python-package/build/temp.macosx-10.9-x86_64-3.7/xgboost/src/learner.cc:1350: Empty dataset at worker: 0\n",
      "[11:54:32] WARNING: /Users/runner/work/xgboost/xgboost/python-package/build/temp.macosx-10.9-x86_64-3.7/xgboost/src/learner.cc:1350: Empty dataset at worker: 0\n",
      "[11:54:32] WARNING: /Users/runner/work/xgboost/xgboost/python-package/build/temp.macosx-10.9-x86_64-3.7/xgboost/src/learner.cc:1350: Empty dataset at worker: 0\n",
      "[11:54:32] WARNING: /Users/runner/work/xgboost/xgboost/python-package/build/temp.macosx-10.9-x86_64-3.7/xgboost/src/learner.cc:1350: Empty dataset at worker: 0\n",
      "[11:54:32] WARNING: /Users/runner/work/xgboost/xgboost/python-package/build/temp.macosx-10.9-x86_64-3.7/xgboost/src/learner.cc:1350: Empty dataset at worker: 0\n",
      "[11:54:32] WARNING: /Users/runner/work/xgboost/xgboost/python-package/build/temp.macosx-10.9-x86_64-3.7/xgboost/src/learner.cc:1350: Empty dataset at worker: 0\n"
     ]
    },
    {
     "name": "stdout",
     "output_type": "stream",
     "text": [
      "Tuning for XGBClassifier is finished\n",
      "####################  Folktables [LA]  ####################\n",
      "Test model:  XGBClassifier\n",
      "Test model parameters:\n",
      "{'learning_rate': 0.1,\n",
      " 'max_depth': 5,\n",
      " 'n_estimators': 200,\n",
      " 'objective': 'binary:logistic'}\n",
      "\n",
      "              precision    recall  f1-score   support\n",
      "\n",
      "           0      0.880     0.781     0.828     41765\n",
      "           1      0.760     0.867     0.810     33442\n",
      "\n",
      "    accuracy                          0.819     75207\n",
      "   macro avg      0.820     0.824     0.819     75207\n",
      "weighted avg      0.827     0.819     0.820     75207\n",
      "\n"
     ]
    },
    {
     "data": {
      "image/png": "[encoded data removed]",
      "text/plain": [
       "<Figure size 432x288 with 2 Axes>"
      ]
     },
     "metadata": {
      "needs_background": "light"
     },
     "output_type": "display_data"
    },
    {
     "name": "stderr",
     "output_type": "stream",
     "text": [
      "/Library/Frameworks/Python.framework/Versions/3.9/lib/python3.9/site-packages/pandas/core/dtypes/cast.py:881: VisibleDeprecationWarning: Creating an ndarray from ragged nested sequences (which is a list-or-tuple of lists-or-tuples-or ndarrays with different lengths or shapes) is deprecated. If you meant to do this, you must specify 'dtype=object' when creating the ndarray.\n",
      "  element = np.asarray(element)\n"
     ]
    },
    {
     "data": {
      "text/html": [
       "<div>\n",
       "<style scoped>\n",
       "    .dataframe tbody tr th:only-of-type {\n",
       "        vertical-align: middle;\n",
       "    }\n",
       "\n",
       "    .dataframe tbody tr th {\n",
       "        vertical-align: top;\n",
       "    }\n",
       "\n",
       "    .dataframe thead th {\n",
       "        text-align: right;\n",
       "    }\n",
       "</style>\n",
       "<table border=\"1\" class=\"dataframe\">\n",
       "  <thead>\n",
       "    <tr style=\"text-align: right;\">\n",
       "      <th></th>\n",
       "      <th>Dataset_Name</th>\n",
       "      <th>Model_Name</th>\n",
       "      <th>F1_Score</th>\n",
       "      <th>Accuracy_Score</th>\n",
       "      <th>Model_Best_Params</th>\n",
       "    </tr>\n",
       "  </thead>\n",
       "  <tbody>\n",
       "    <tr>\n",
       "      <th>0</th>\n",
       "      <td>Folktables [LA]</td>\n",
       "      <td>RandomForestClassifier</td>\n",
       "      <td>0.816544</td>\n",
       "      <td>0.816759</td>\n",
       "      <td>{'bootstrap': True, 'max_depth': 10, 'max_feat...</td>\n",
       "    </tr>\n",
       "    <tr>\n",
       "      <th>1</th>\n",
       "      <td>Folktables [LA]</td>\n",
       "      <td>DecisionTreeClassifier</td>\n",
       "      <td>0.812643</td>\n",
       "      <td>0.812996</td>\n",
       "      <td>{'criterion': 'gini', 'max_depth': 10, 'max_fe...</td>\n",
       "    </tr>\n",
       "    <tr>\n",
       "      <th>2</th>\n",
       "      <td>Folktables [LA]</td>\n",
       "      <td>XGBClassifier</td>\n",
       "      <td>0.818972</td>\n",
       "      <td>0.819392</td>\n",
       "      <td>{'learning_rate': 0.1, 'max_depth': 5, 'n_esti...</td>\n",
       "    </tr>\n",
       "  </tbody>\n",
       "</table>\n",
       "</div>"
      ],
      "text/plain": [
       "      Dataset_Name              Model_Name  F1_Score  Accuracy_Score  \\\n",
       "0  Folktables [LA]  RandomForestClassifier  0.816544        0.816759   \n",
       "1  Folktables [LA]  DecisionTreeClassifier  0.812643        0.812996   \n",
       "2  Folktables [LA]           XGBClassifier  0.818972        0.819392   \n",
       "\n",
       "                                   Model_Best_Params  \n",
       "0  {'bootstrap': True, 'max_depth': 10, 'max_feat...  \n",
       "1  {'criterion': 'gini', 'max_depth': 10, 'max_fe...  \n",
       "2  {'learning_rate': 0.1, 'max_depth': 5, 'n_esti...  "
      ]
     },
     "execution_count": 23,
     "metadata": {},
     "output_type": "execute_result"
    },
    {
     "name": "stdout",
     "output_type": "stream",
     "text": [
      "[CV 3/3; 1/1] START bootstrap=True, max_depth=10, max_features=0.6, n_estimators=30\n",
      "[CV 3/3; 1/1] END bootstrap=True, max_depth=10, max_features=0.6, n_estimators=30; Accuracy_Score: (test=nan) F1_Score: (test=nan) total time=   0.1s\n",
      "[CV 2/3; 1/1] START bootstrap=True, max_depth=10, max_features=0.6, n_estimators=30\n",
      "[CV 2/3; 1/1] END bootstrap=True, max_depth=10, max_features=0.6, n_estimators=30; Accuracy_Score: (test=0.815) F1_Score: (test=0.815) total time=   5.7s\n",
      "[CV 3/3; 1/1] START criterion=gini, max_depth=10, max_features=0.6..............\n",
      "[CV 3/3; 1/1] END criterion=gini, max_depth=10, max_features=0.6; Accuracy_Score: (test=nan) F1_Score: (test=nan) total time=   0.0s\n",
      "[CV 1/3; 1/1] START bootstrap=True, max_depth=10, max_features=0.6, n_estimators=30\n",
      "[CV 1/3; 1/1] END bootstrap=True, max_depth=10, max_features=0.6, n_estimators=30; Accuracy_Score: (test=0.819) F1_Score: (test=0.819) total time=  12.2s\n",
      "[CV 1/3; 1/1] START criterion=gini, max_depth=10, max_features=0.6..............\n",
      "[CV 1/3; 1/1] END criterion=gini, max_depth=10, max_features=0.6; Accuracy_Score: (test=0.815) F1_Score: (test=0.814) total time=   0.8s\n",
      "[CV 2/3; 1/1] START learning_rate=0.1, max_depth=5, n_estimators=200, objective=binary:logistic\n",
      "[CV 2/3; 1/1] END learning_rate=0.1, max_depth=5, n_estimators=200, objective=binary:logistic; Accuracy_Score: (test=0.818) F1_Score: (test=0.817) total time=  45.2s\n",
      "[CV 1/3; 1/1] START learning_rate=0.1, max_depth=5, n_estimators=200, objective=binary:logistic\n",
      "[CV 1/3; 1/1] END learning_rate=0.1, max_depth=5, n_estimators=200, objective=binary:logistic; Accuracy_Score: (test=0.822) F1_Score: (test=0.821) total time= 1.5min\n",
      "[CV 2/3; 1/1] START criterion=gini, max_depth=10, max_features=0.6..............\n",
      "[CV 2/3; 1/1] END criterion=gini, max_depth=10, max_features=0.6; Accuracy_Score: (test=0.810) F1_Score: (test=0.809) total time=   0.4s\n",
      "[11:54:32] WARNING: /Users/runner/work/xgboost/xgboost/python-package/build/temp.macosx-10.9-x86_64-3.7/xgboost/src/learner.cc:1350: Empty dataset at worker: 0\n",
      "[11:54:32] WARNING: /Users/runner/work/xgboost/xgboost/python-package/build/temp.macosx-10.9-x86_64-3.7/xgboost/src/learner.cc:1350: Empty dataset at worker: 0\n",
      "[11:54:32] WARNING: /Users/runner/work/xgboost/xgboost/python-package/build/temp.macosx-10.9-x86_64-3.7/xgboost/src/learner.cc:1350: Empty dataset at worker: 0\n",
      "[11:54:32] WARNING: /Users/runner/work/xgboost/xgboost/python-package/build/temp.macosx-10.9-x86_64-3.7/xgboost/src/learner.cc:1350: Empty dataset at worker: 0\n",
      "[11:54:32] WARNING: /Users/runner/work/xgboost/xgboost/python-package/build/temp.macosx-10.9-x86_64-3.7/xgboost/src/learner.cc:1350: Empty dataset at worker: 0\n",
      "[11:54:32] WARNING: /Users/runner/work/xgboost/xgboost/python-package/build/temp.macosx-10.9-x86_64-3.7/xgboost/src/learner.cc:1350: Empty dataset at worker: 0\n",
      "[11:54:32] WARNING: /Users/runner/work/xgboost/xgboost/python-package/build/temp.macosx-10.9-x86_64-3.7/xgboost/src/learner.cc:1350: Empty dataset at worker: 0\n",
      "[11:54:32] WARNING: /Users/runner/work/xgboost/xgboost/python-package/build/temp.macosx-10.9-x86_64-3.7/xgboost/src/learner.cc:1350: Empty dataset at worker: 0\n",
      "[11:54:32] WARNING: /Users/runner/work/xgboost/xgboost/python-package/build/temp.macosx-10.9-x86_64-3.7/xgboost/src/learner.cc:1350: Empty dataset at worker: 0\n",
      "[11:54:32] WARNING: /Users/runner/work/xgboost/xgboost/python-package/build/temp.macosx-10.9-x86_64-3.7/xgboost/src/learner.cc:1350: Empty dataset at worker: 0\n",
      "[11:54:32] WARNING: /Users/runner/work/xgboost/xgboost/python-package/build/temp.macosx-10.9-x86_64-3.7/xgboost/src/learner.cc:1350: Empty dataset at worker: 0\n",
      "[11:54:32] WARNING: /Users/runner/work/xgboost/xgboost/python-package/build/temp.macosx-10.9-x86_64-3.7/xgboost/src/learner.cc:1350: Empty dataset at worker: 0\n",
      "[11:54:32] WARNING: /Users/runner/work/xgboost/xgboost/python-package/build/temp.macosx-10.9-x86_64-3.7/xgboost/src/learner.cc:1350: Empty dataset at worker: 0\n",
      "[11:54:32] WARNING: /Users/runner/work/xgboost/xgboost/python-package/build/temp.macosx-10.9-x86_64-3.7/xgboost/src/learner.cc:1350: Empty dataset at worker: 0\n",
      "[11:54:32] WARNING: /Users/runner/work/xgboost/xgboost/python-package/build/temp.macosx-10.9-x86_64-3.7/xgboost/src/learner.cc:1350: Empty dataset at worker: 0\n",
      "[11:54:32] WARNING: /Users/runner/work/xgboost/xgboost/python-package/build/temp.macosx-10.9-x86_64-3.7/xgboost/src/learner.cc:1350: Empty dataset at worker: 0\n",
      "[11:54:32] WARNING: /Users/runner/work/xgboost/xgboost/python-package/build/temp.macosx-10.9-x86_64-3.7/xgboost/src/learner.cc:1350: Empty dataset at worker: 0\n",
      "[11:54:32] WARNING: /Users/runner/work/xgboost/xgboost/python-package/build/temp.macosx-10.9-x86_64-3.7/xgboost/src/learner.cc:1350: Empty dataset at worker: 0\n",
      "[11:54:32] WARNING: /Users/runner/work/xgboost/xgboost/python-package/build/temp.macosx-10.9-x86_64-3.7/xgboost/src/learner.cc:1350: Empty dataset at worker: 0\n",
      "[11:54:32] WARNING: /Users/runner/work/xgboost/xgboost/python-package/build/temp.macosx-10.9-x86_64-3.7/xgboost/src/learner.cc:1350: Empty dataset at worker: 0\n",
      "[11:54:32] WARNING: /Users/runner/work/xgboost/xgboost/python-package/build/temp.macosx-10.9-x86_64-3.7/xgboost/src/learner.cc:1350: Empty dataset at worker: 0\n",
      "[11:54:32] WARNING: /Users/runner/work/xgboost/xgboost/python-package/build/temp.macosx-10.9-x86_64-3.7/xgboost/src/learner.cc:1350: Empty dataset at worker: 0\n",
      "[11:54:32] WARNING: /Users/runner/work/xgboost/xgboost/python-package/build/temp.macosx-10.9-x86_64-3.7/xgboost/src/learner.cc:1350: Empty dataset at worker: 0\n",
      "[11:54:32] WARNING: /Users/runner/work/xgboost/xgboost/python-package/build/temp.macosx-10.9-x86_64-3.7/xgboost/src/learner.cc:1350: Empty dataset at worker: 0\n",
      "[11:54:32] WARNING: /Users/runner/work/xgboost/xgboost/python-package/build/temp.macosx-10.9-x86_64-3.7/xgboost/src/learner.cc:1350: Empty dataset at worker: 0\n",
      "[11:54:32] WARNING: /Users/runner/work/xgboost/xgboost/python-package/build/temp.macosx-10.9-x86_64-3.7/xgboost/src/learner.cc:1350: Empty dataset at worker: 0\n",
      "[11:54:32] WARNING: /Users/runner/work/xgboost/xgboost/python-package/build/temp.macosx-10.9-x86_64-3.7/xgboost/src/learner.cc:1350: Empty dataset at worker: 0\n",
      "[11:54:32] WARNING: /Users/runner/work/xgboost/xgboost/python-package/build/temp.macosx-10.9-x86_64-3.7/xgboost/src/learner.cc:1350: Empty dataset at worker: 0\n",
      "[11:54:32] WARNING: /Users/runner/work/xgboost/xgboost/python-package/build/temp.macosx-10.9-x86_64-3.7/xgboost/src/learner.cc:1350: Empty dataset at worker: 0\n",
      "[11:54:32] WARNING: /Users/runner/work/xgboost/xgboost/python-package/build/temp.macosx-10.9-x86_64-3.7/xgboost/src/learner.cc:1350: Empty dataset at worker: 0\n",
      "[11:54:32] WARNING: /Users/runner/work/xgboost/xgboost/python-package/build/temp.macosx-10.9-x86_64-3.7/xgboost/src/learner.cc:1350: Empty dataset at worker: 0\n",
      "[11:54:32] WARNING: /Users/runner/work/xgboost/xgboost/python-package/build/temp.macosx-10.9-x86_64-3.7/xgboost/src/learner.cc:1350: Empty dataset at worker: 0\n",
      "[11:54:32] WARNING: /Users/runner/work/xgboost/xgboost/python-package/build/temp.macosx-10.9-x86_64-3.7/xgboost/src/learner.cc:1350: Empty dataset at worker: 0\n",
      "[11:54:32] WARNING: /Users/runner/work/xgboost/xgboost/python-package/build/temp.macosx-10.9-x86_64-3.7/xgboost/src/learner.cc:1350: Empty dataset at worker: 0\n",
      "[11:54:32] WARNING: /Users/runner/work/xgboost/xgboost/python-package/build/temp.macosx-10.9-x86_64-3.7/xgboost/src/learner.cc:1350: Empty dataset at worker: 0\n",
      "[11:54:32] WARNING: /Users/runner/work/xgboost/xgboost/python-package/build/temp.macosx-10.9-x86_64-3.7/xgboost/src/learner.cc:1350: Empty dataset at worker: 0\n",
      "[11:54:32] WARNING: /Users/runner/work/xgboost/xgboost/python-package/build/temp.macosx-10.9-x86_64-3.7/xgboost/src/learner.cc:1350: Empty dataset at worker: 0\n",
      "[11:54:32] WARNING: /Users/runner/work/xgboost/xgboost/python-package/build/temp.macosx-10.9-x86_64-3.7/xgboost/src/learner.cc:1350: Empty dataset at worker: 0\n",
      "[11:54:32] WARNING: /Users/runner/work/xgboost/xgboost/python-package/build/temp.macosx-10.9-x86_64-3.7/xgboost/src/learner.cc:1350: Empty dataset at worker: 0\n",
      "[11:54:32] WARNING: /Users/runner/work/xgboost/xgboost/python-package/build/temp.macosx-10.9-x86_64-3.7/xgboost/src/learner.cc:1350: Empty dataset at worker: 0\n",
      "[11:54:32] WARNING: /Users/runner/work/xgboost/xgboost/python-package/build/temp.macosx-10.9-x86_64-3.7/xgboost/src/learner.cc:1350: Empty dataset at worker: 0\n",
      "[11:54:32] WARNING: /Users/runner/work/xgboost/xgboost/python-package/build/temp.macosx-10.9-x86_64-3.7/xgboost/src/learner.cc:1350: Empty dataset at worker: 0\n",
      "[11:54:32] WARNING: /Users/runner/work/xgboost/xgboost/python-package/build/temp.macosx-10.9-x86_64-3.7/xgboost/src/learner.cc:1350: Empty dataset at worker: 0\n",
      "[11:54:32] WARNING: /Users/runner/work/xgboost/xgboost/python-package/build/temp.macosx-10.9-x86_64-3.7/xgboost/src/learner.cc:1350: Empty dataset at worker: 0\n",
      "[11:54:32] WARNING: /Users/runner/work/xgboost/xgboost/python-package/build/temp.macosx-10.9-x86_64-3.7/xgboost/src/learner.cc:1350: Empty dataset at worker: 0\n",
      "[11:54:32] WARNING: /Users/runner/work/xgboost/xgboost/python-package/build/temp.macosx-10.9-x86_64-3.7/xgboost/src/learner.cc:1350: Empty dataset at worker: 0\n",
      "[11:54:32] WARNING: /Users/runner/work/xgboost/xgboost/python-package/build/temp.macosx-10.9-x86_64-3.7/xgboost/src/learner.cc:1350: Empty dataset at worker: 0\n",
      "[11:54:32] WARNING: /Users/runner/work/xgboost/xgboost/python-package/build/temp.macosx-10.9-x86_64-3.7/xgboost/src/learner.cc:1350: Empty dataset at worker: 0\n",
      "[11:54:32] WARNING: /Users/runner/work/xgboost/xgboost/python-package/build/temp.macosx-10.9-x86_64-3.7/xgboost/src/learner.cc:1350: Empty dataset at worker: 0\n",
      "[11:54:32] WARNING: /Users/runner/work/xgboost/xgboost/python-package/build/temp.macosx-10.9-x86_64-3.7/xgboost/src/learner.cc:1350: Empty dataset at worker: 0\n",
      "[11:54:32] WARNING: /Users/runner/work/xgboost/xgboost/python-package/build/temp.macosx-10.9-x86_64-3.7/xgboost/src/learner.cc:1350: Empty dataset at worker: 0\n",
      "[11:54:32] WARNING: /Users/runner/work/xgboost/xgboost/python-package/build/temp.macosx-10.9-x86_64-3.7/xgboost/src/learner.cc:1350: Empty dataset at worker: 0\n",
      "[11:54:32] WARNING: /Users/runner/work/xgboost/xgboost/python-package/build/temp.macosx-10.9-x86_64-3.7/xgboost/src/learner.cc:1350: Empty dataset at worker: 0\n",
      "[11:54:32] WARNING: /Users/runner/work/xgboost/xgboost/python-package/build/temp.macosx-10.9-x86_64-3.7/xgboost/src/learner.cc:1350: Empty dataset at worker: 0\n",
      "[11:54:32] WARNING: /Users/runner/work/xgboost/xgboost/python-package/build/temp.macosx-10.9-x86_64-3.7/xgboost/src/learner.cc:1350: Empty dataset at worker: 0\n",
      "[11:54:32] WARNING: /Users/runner/work/xgboost/xgboost/python-package/build/temp.macosx-10.9-x86_64-3.7/xgboost/src/learner.cc:1350: Empty dataset at worker: 0\n",
      "[11:54:32] WARNING: /Users/runner/work/xgboost/xgboost/python-package/build/temp.macosx-10.9-x86_64-3.7/xgboost/src/learner.cc:1350: Empty dataset at worker: 0\n",
      "[11:54:32] WARNING: /Users/runner/work/xgboost/xgboost/python-package/build/temp.macosx-10.9-x86_64-3.7/xgboost/src/learner.cc:1350: Empty dataset at worker: 0\n",
      "[11:54:32] WARNING: /Users/runner/work/xgboost/xgboost/python-package/build/temp.macosx-10.9-x86_64-3.7/xgboost/src/learner.cc:1350: Empty dataset at worker: 0\n",
      "[11:54:32] WARNING: /Users/runner/work/xgboost/xgboost/python-package/build/temp.macosx-10.9-x86_64-3.7/xgboost/src/learner.cc:1350: Empty dataset at worker: 0\n",
      "[11:54:32] WARNING: /Users/runner/work/xgboost/xgboost/python-package/build/temp.macosx-10.9-x86_64-3.7/xgboost/src/learner.cc:1350: Empty dataset at worker: 0\n",
      "[11:54:32] WARNING: /Users/runner/work/xgboost/xgboost/python-package/build/temp.macosx-10.9-x86_64-3.7/xgboost/src/learner.cc:1350: Empty dataset at worker: 0\n",
      "[11:54:32] WARNING: /Users/runner/work/xgboost/xgboost/python-package/build/temp.macosx-10.9-x86_64-3.7/xgboost/src/learner.cc:1350: Empty dataset at worker: 0\n",
      "[11:54:32] WARNING: /Users/runner/work/xgboost/xgboost/python-package/build/temp.macosx-10.9-x86_64-3.7/xgboost/src/learner.cc:1350: Empty dataset at worker: 0\n",
      "[11:54:32] WARNING: /Users/runner/work/xgboost/xgboost/python-package/build/temp.macosx-10.9-x86_64-3.7/xgboost/src/learner.cc:1350: Empty dataset at worker: 0\n",
      "[11:54:32] WARNING: /Users/runner/work/xgboost/xgboost/python-package/build/temp.macosx-10.9-x86_64-3.7/xgboost/src/learner.cc:1350: Empty dataset at worker: 0\n",
      "[11:54:32] WARNING: /Users/runner/work/xgboost/xgboost/python-package/build/temp.macosx-10.9-x86_64-3.7/xgboost/src/learner.cc:1350: Empty dataset at worker: 0\n",
      "[11:54:32] WARNING: /Users/runner/work/xgboost/xgboost/python-package/build/temp.macosx-10.9-x86_64-3.7/xgboost/src/learner.cc:1350: Empty dataset at worker: 0\n",
      "[11:54:32] WARNING: /Users/runner/work/xgboost/xgboost/python-package/build/temp.macosx-10.9-x86_64-3.7/xgboost/src/learner.cc:1350: Empty dataset at worker: 0\n",
      "[11:54:32] WARNING: /Users/runner/work/xgboost/xgboost/python-package/build/temp.macosx-10.9-x86_64-3.7/xgboost/src/learner.cc:1350: Empty dataset at worker: 0\n",
      "[11:54:32] WARNING: /Users/runner/work/xgboost/xgboost/python-package/build/temp.macosx-10.9-x86_64-3.7/xgboost/src/learner.cc:1350: Empty dataset at worker: 0\n",
      "[11:54:32] WARNING: /Users/runner/work/xgboost/xgboost/python-package/build/temp.macosx-10.9-x86_64-3.7/xgboost/src/learner.cc:1350: Empty dataset at worker: 0\n",
      "[11:54:32] WARNING: /Users/runner/work/xgboost/xgboost/python-package/build/temp.macosx-10.9-x86_64-3.7/xgboost/src/learner.cc:1350: Empty dataset at worker: 0\n",
      "[11:54:32] WARNING: /Users/runner/work/xgboost/xgboost/python-package/build/temp.macosx-10.9-x86_64-3.7/xgboost/src/learner.cc:1350: Empty dataset at worker: 0\n",
      "[11:54:32] WARNING: /Users/runner/work/xgboost/xgboost/python-package/build/temp.macosx-10.9-x86_64-3.7/xgboost/src/learner.cc:1350: Empty dataset at worker: 0\n",
      "[11:54:32] WARNING: /Users/runner/work/xgboost/xgboost/python-package/build/temp.macosx-10.9-x86_64-3.7/xgboost/src/learner.cc:1350: Empty dataset at worker: 0\n",
      "[11:54:32] WARNING: /Users/runner/work/xgboost/xgboost/python-package/build/temp.macosx-10.9-x86_64-3.7/xgboost/src/learner.cc:1350: Empty dataset at worker: 0\n",
      "[11:54:32] WARNING: /Users/runner/work/xgboost/xgboost/python-package/build/temp.macosx-10.9-x86_64-3.7/xgboost/src/learner.cc:1350: Empty dataset at worker: 0\n",
      "[11:54:32] WARNING: /Users/runner/work/xgboost/xgboost/python-package/build/temp.macosx-10.9-x86_64-3.7/xgboost/src/learner.cc:1350: Empty dataset at worker: 0\n",
      "[11:54:32] WARNING: /Users/runner/work/xgboost/xgboost/python-package/build/temp.macosx-10.9-x86_64-3.7/xgboost/src/learner.cc:1350: Empty dataset at worker: 0\n",
      "[11:54:32] WARNING: /Users/runner/work/xgboost/xgboost/python-package/build/temp.macosx-10.9-x86_64-3.7/xgboost/src/learner.cc:1350: Empty dataset at worker: 0\n",
      "[11:54:32] WARNING: /Users/runner/work/xgboost/xgboost/python-package/build/temp.macosx-10.9-x86_64-3.7/xgboost/src/learner.cc:1350: Empty dataset at worker: 0\n",
      "[11:54:32] WARNING: /Users/runner/work/xgboost/xgboost/python-package/build/temp.macosx-10.9-x86_64-3.7/xgboost/src/learner.cc:1350: Empty dataset at worker: 0\n",
      "[11:54:32] WARNING: /Users/runner/work/xgboost/xgboost/python-package/build/temp.macosx-10.9-x86_64-3.7/xgboost/src/learner.cc:1350: Empty dataset at worker: 0\n",
      "[11:54:32] WARNING: /Users/runner/work/xgboost/xgboost/python-package/build/temp.macosx-10.9-x86_64-3.7/xgboost/src/learner.cc:1350: Empty dataset at worker: 0\n",
      "[11:54:32] WARNING: /Users/runner/work/xgboost/xgboost/python-package/build/temp.macosx-10.9-x86_64-3.7/xgboost/src/learner.cc:1350: Empty dataset at worker: 0\n",
      "[11:54:32] WARNING: /Users/runner/work/xgboost/xgboost/python-package/build/temp.macosx-10.9-x86_64-3.7/xgboost/src/learner.cc:1350: Empty dataset at worker: 0\n",
      "[11:54:32] WARNING: /Users/runner/work/xgboost/xgboost/python-package/build/temp.macosx-10.9-x86_64-3.7/xgboost/src/learner.cc:1350: Empty dataset at worker: 0\n",
      "[11:54:32] WARNING: /Users/runner/work/xgboost/xgboost/python-package/build/temp.macosx-10.9-x86_64-3.7/xgboost/src/learner.cc:1350: Empty dataset at worker: 0\n",
      "[11:54:32] WARNING: /Users/runner/work/xgboost/xgboost/python-package/build/temp.macosx-10.9-x86_64-3.7/xgboost/src/learner.cc:1350: Empty dataset at worker: 0\n",
      "[11:54:32] WARNING: /Users/runner/work/xgboost/xgboost/python-package/build/temp.macosx-10.9-x86_64-3.7/xgboost/src/learner.cc:1350: Empty dataset at worker: 0\n",
      "[11:54:32] WARNING: /Users/runner/work/xgboost/xgboost/python-package/build/temp.macosx-10.9-x86_64-3.7/xgboost/src/learner.cc:1350: Empty dataset at worker: 0\n",
      "[11:54:32] WARNING: /Users/runner/work/xgboost/xgboost/python-package/build/temp.macosx-10.9-x86_64-3.7/xgboost/src/learner.cc:1350: Empty dataset at worker: 0\n",
      "[11:54:32] WARNING: /Users/runner/work/xgboost/xgboost/python-package/build/temp.macosx-10.9-x86_64-3.7/xgboost/src/learner.cc:1350: Empty dataset at worker: 0\n",
      "[11:54:32] WARNING: /Users/runner/work/xgboost/xgboost/python-package/build/temp.macosx-10.9-x86_64-3.7/xgboost/src/learner.cc:1350: Empty dataset at worker: 0\n",
      "[CV 3/3; 1/1] END learning_rate=0.1, max_depth=5, n_estimators=200, objective=binary:logistic; Accuracy_Score: (test=0.557) F1_Score: (test=0.358) total time=   0.3s\n"
     ]
    }
   ],
   "source": [
    "ML_results_df = test_ML_models(best_results_df, config_models, n_folds, samples_per_fold,\n",
    "                               X_train, y_train, X_val, y_val, \"Folktables [LA]\", show_plots=True, debug_mode=True)\n",
    "ML_results_df"
   ]
  },
  {
   "cell_type": "code",
   "execution_count": 27,
   "id": "e10e8279",
   "metadata": {},
   "outputs": [
    {
     "data": {
      "text/plain": [
       "{'learning_rate': 0.1,\n",
       " 'max_depth': 5,\n",
       " 'n_estimators': 200,\n",
       " 'objective': 'binary:logistic'}"
      ]
     },
     "execution_count": 27,
     "metadata": {},
     "output_type": "execute_result"
    }
   ],
   "source": [
    "ML_results_df['Model_Best_Params'][2]"
   ]
  },
  {
   "cell_type": "code",
   "execution_count": 29,
   "id": "418a9cfc",
   "metadata": {},
   "outputs": [
    {
     "data": {
      "text/plain": [
       "XGBClassifier(base_score=0.5, booster='gbtree', callbacks=None,\n",
       "              colsample_bylevel=1, colsample_bynode=1, colsample_bytree=1,\n",
       "              early_stopping_rounds=None, enable_categorical=False,\n",
       "              eval_metric=None, gamma=0, gpu_id=-1, grow_policy='depthwise',\n",
       "              importance_type=None, interaction_constraints='',\n",
       "              learning_rate=0.1, max_bin=256, max_cat_to_onehot=4,\n",
       "              max_delta_step=0, max_depth=5, max_leaves=0, min_child_weight=1,\n",
       "              missing=nan, monotone_constraints='()', n_estimators=200,\n",
       "              n_jobs=0, num_parallel_tree=1, predictor='auto', random_state=0,\n",
       "              reg_alpha=0, reg_lambda=1, ...)"
      ]
     },
     "execution_count": 29,
     "metadata": {},
     "output_type": "execute_result"
    }
   ],
   "source": [
    "best_model = XGBClassifier(learning_rate=0.1, max_depth=5,n_estimators=200,objective='binary:logistic')\n",
    "best_model.fit(X_train, y_train)"
   ]
  },
  {
   "cell_type": "code",
   "execution_count": 31,
   "id": "9cedcb89",
   "metadata": {},
   "outputs": [
    {
     "data": {
      "text/plain": [
       "0.8219935201067277"
      ]
     },
     "execution_count": 31,
     "metadata": {},
     "output_type": "execute_result"
    }
   ],
   "source": [
    "best_model.score(X_train, y_train)"
   ]
  },
  {
   "cell_type": "code",
   "execution_count": 32,
   "id": "fa50ce92",
   "metadata": {},
   "outputs": [
    {
     "data": {
      "text/plain": [
       "0.8186472003935804"
      ]
     },
     "execution_count": 32,
     "metadata": {},
     "output_type": "execute_result"
    }
   ],
   "source": [
    "best_model.score(X_test, y_test)"
   ]
  },
  {
   "cell_type": "markdown",
   "id": "b4116660",
   "metadata": {},
   "source": [
    "TODO: Write null-imputer, scaler, test_ML_models into one sklearn-pipeline"
   ]
  }
 ],
 "metadata": {
  "kernelspec": {
   "display_name": "Python 3 (ipykernel)",
   "language": "python",
   "name": "python3"
  },
  "language_info": {
   "codemirror_mode": {
    "name": "ipython",
    "version": 3
   },
   "file_extension": ".py",
   "mimetype": "text/x-python",
   "name": "python",
   "nbconvert_exporter": "python",
   "pygments_lexer": "ipython3",
   "version": "3.9.7"
  }
 },
 "nbformat": 4,
 "nbformat_minor": 5
}