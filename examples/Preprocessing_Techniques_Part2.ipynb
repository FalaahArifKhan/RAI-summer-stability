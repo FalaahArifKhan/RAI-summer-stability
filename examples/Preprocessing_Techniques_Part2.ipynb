{
  "cells": [
    {
      "cell_type": "markdown",
      "metadata": {
        "id": "view-in-github",
        "colab_type": "text"
      },
      "source": [
        "<a href=\"https://colab.research.google.com/github/FalaahArifKhan/RAI-summer-stability/blob/main/examples/Preprocessing_Techniques.ipynb\" target=\"_parent\"><img src=\"https://colab.research.google.com/assets/colab-badge.svg\" alt=\"Open In Colab\"/></a>"
      ]
    },
    {
      "cell_type": "code",
      "execution_count": null,
      "metadata": {
        "colab": {
          "base_uri": "https://localhost:8080/"
        },
        "id": "kE-QqGjbN4j_",
        "outputId": "cacebcfe-601c-411e-c9d7-9487fdbe59f1"
      },
      "outputs": [
        {
          "name": "stdout",
          "output_type": "stream",
          "text": [
            "Cloning into 'RAI-summer-stability'...\n",
            "remote: Enumerating objects: 194, done.\u001b[K\n",
            "remote: Counting objects: 100% (15/15), done.\u001b[K\n",
            "remote: Compressing objects: 100% (12/12), done.\u001b[K\n",
            "remote: Total 194 (delta 4), reused 10 (delta 3), pack-reused 179\u001b[K\n",
            "Receiving objects: 100% (194/194), 35.78 MiB | 21.90 MiB/s, done.\n",
            "Resolving deltas: 100% (87/87), done.\n"
          ]
        }
      ],
      "source": [
        "!git clone https://github.com/FalaahArifKhan/RAI-summer-stability.git"
      ]
    },
    {
      "cell_type": "markdown",
      "metadata": {
        "id": "uFkz_rroNOfx"
      },
      "source": [
        "# Loading the data"
      ]
    },
    {
      "cell_type": "code",
      "execution_count": null,
      "metadata": {
        "id": "jO6zuK1iNjU2"
      },
      "outputs": [],
      "source": [
        "from IPython.display import clear_output\n",
        "try:\n",
        "    from folktables import ACSDataSource, ACSEmployment\n",
        "except:\n",
        "    !pip install folktables\n",
        "    from folktables import ACSDataSource, ACSEmployment\n",
        "    clear_output()\n",
        "from sys import getsizeof\n",
        "import numpy as np\n",
        "import pandas as pd\n",
        "from plotly.subplots import make_subplots\n",
        "import plotly.graph_objects as go\n",
        "\n",
        "from utils.data_loader import *\n",
        "from utils.null_handler import *\n",
        "from utils.EDA_utils import *\n",
        "\n",
        "import warnings\n",
        "warnings.filterwarnings('ignore')\n",
        "\n",
        "SEED=10"
      ]
    },
    {
      "cell_type": "code",
      "execution_count": null,
      "metadata": {
        "colab": {
          "base_uri": "https://localhost:8080/"
        },
        "id": "S1u3Hp8FNUOO",
        "outputId": "37c4bbae-912e-4ced-f64d-19d4023deeb9"
      },
      "outputs": [
        {
          "name": "stdout",
          "output_type": "stream",
          "text": [
            "Downloading data for 2016 1-Year person survey for AL...\n"
          ]
        }
      ],
      "source": [
        "X_data_load, y_data = ACSDataLoader(task=ACSEmployment, state=['AL'], year='2016')"
      ]
    },
    {
      "cell_type": "code",
      "execution_count": null,
      "metadata": {
        "colab": {
          "base_uri": "https://localhost:8080/"
        },
        "id": "b6AxoQibRA5a",
        "outputId": "e4a1a234-ebb1-4328-ecb9-2a122a842378"
      },
      "outputs": [
        {
          "name": "stdout",
          "output_type": "stream",
          "text": [
            "Original: 5 mb\n",
            "Optimized: 2 mb\n"
          ]
        }
      ],
      "source": [
        "print(f'Original: {int(getsizeof(X_data_load) / 1024**2)} mb')\n",
        "print(f'Optimized: {int(getsizeof(optimize_ACSEmployment(X_data_load)) / 1024**2)} mb')\n",
        "\n",
        "X_data = optimize_ACSEmployment(X_data_load)"
      ]
    },
    {
      "cell_type": "code",
      "execution_count": null,
      "metadata": {
        "colab": {
          "base_uri": "https://localhost:8080/"
        },
        "id": "bhdzoPkMRzgu",
        "outputId": "d5c4750a-68a0-4609-95e0-54985213635e"
      },
      "outputs": [
        {
          "data": {
            "text/plain": [
              "AGEP            0\n",
              "SCHL         1396\n",
              "MAR             0\n",
              "RELP            0\n",
              "DIS             0\n",
              "ESP         38956\n",
              "CIT             0\n",
              "MIG           444\n",
              "MIL          8820\n",
              "ANC             0\n",
              "NATIVITY        0\n",
              "DEAR            0\n",
              "DEYE            0\n",
              "DREM         2347\n",
              "SEX             0\n",
              "RAC1P           0\n",
              "dtype: int64"
            ]
          },
          "execution_count": 6,
          "metadata": {},
          "output_type": "execute_result"
        }
      ],
      "source": [
        "X_data.isna().sum()"
      ]
    },
    {
      "cell_type": "markdown",
      "metadata": {
        "id": "YA9t7UpTGrwD"
      },
      "source": [
        "# Imputation methods"
      ]
    },
    {
      "cell_type": "markdown",
      "metadata": {
        "id": "rIz92qDA3BZa"
      },
      "source": [
        "## Deterministic or Stochastic Regression Imputation"
      ]
    },
    {
      "cell_type": "code",
      "execution_count": null,
      "metadata": {
        "id": "HFUGmuHN3K8X"
      },
      "outputs": [],
      "source": [
        "from sklearn.linear_model import LinearRegression, LogisticRegression"
      ]
    },
    {
      "cell_type": "code",
      "execution_count": 68,
      "metadata": {
        "id": "EPGlb-En3UFr"
      },
      "outputs": [],
      "source": [
        "def regression_imputation(input_data, column_names: dict, stochastic=True):\n",
        "    data = input_data.copy(deep=True)\n",
        "    for column_name, column_type in column_names.items():\n",
        "        other_columns = [col for col in data.columns if col != column_name]\n",
        "        indexes = data[column_name].isna()\n",
        "        \n",
        "        not_null_df = data[~indexes]\n",
        "        null_df = data[indexes]\n",
        "\n",
        "        X_train = not_null_df[other_columns].fillna(0).to_numpy()\n",
        "        y_train = not_null_df[column_name].to_numpy()\n",
        "\n",
        "        X_pred = null_df[other_columns].fillna(0).to_numpy()\n",
        "        \n",
        "        if column_type == 'numerical':\n",
        "            model = LinearRegression().fit(X_train, y_train)\n",
        "        else:\n",
        "            model = LogisticRegression(multi_class='multinomial').fit(X_train, y_train)\n",
        "\n",
        "        pred = model.predict(X_pred)\n",
        "        if column_type == 'numerical' and stochastic:\n",
        "            variance = not_null_df[column_name].std()\n",
        "            pred += np.random.normal(loc=0,\n",
        "                                        scale=variance,\n",
        "                                        size=len(pred))\n",
        "        print(pred[:5])\n",
        "        data.loc[indexes, column_name] = pred\n",
        "    return data"
      ]
    },
    {
      "cell_type": "code",
      "execution_count": 69,
      "metadata": {
        "colab": {
          "base_uri": "https://localhost:8080/"
        },
        "id": "JDG1TqeD_dvm",
        "outputId": "8dc515fa-e231-4a4a-edee-e77996e35afb"
      },
      "outputs": [
        {
          "output_type": "stream",
          "name": "stdout",
          "text": [
            "[2. 2. 2. 2. 2.]\n",
            "[6. 6. 6. 6. 6.]\n",
            "[1. 1. 1. 1. 1.]\n",
            "[4. 4. 4. 4. 4.]\n",
            "[2. 2. 2. 2. 2.]\n"
          ]
        },
        {
          "output_type": "execute_result",
          "data": {
            "text/plain": [
              "False"
            ]
          },
          "metadata": {},
          "execution_count": 69
        }
      ],
      "source": [
        "column_names = X_data.columns[X_data.isna().any()].tolist()\n",
        "column_names = dict(zip(column_names, ['categorical'] * len(column_names)))\n",
        "imputed = regression_imputation(X_data, column_names, stochastic=False)\n",
        "imputed.isna().any().any()"
      ]
    },
    {
      "cell_type": "code",
      "execution_count": 70,
      "metadata": {
        "colab": {
          "base_uri": "https://localhost:8080/"
        },
        "id": "Gll-2pWyMsXb",
        "outputId": "69062a0f-a279-4142-effe-dfd3bf633962"
      },
      "outputs": [
        {
          "output_type": "stream",
          "name": "stdout",
          "text": [
            "[-1.63474912 -2.10466141 -7.75491565 10.58805528 10.02717085]\n",
            "[7.80857922 3.20156056 4.64031247 8.40450935 1.75384929]\n",
            "[1.33620945 1.24840552 0.97262184 0.96927577 0.61532494]\n",
            "[4.11679212 4.81116361 4.26628639 4.78682204 3.75590149]\n",
            "[2.00114142 1.89705917 2.2142358  2.18055729 1.83027737]\n"
          ]
        },
        {
          "output_type": "execute_result",
          "data": {
            "text/plain": [
              "False"
            ]
          },
          "metadata": {},
          "execution_count": 70
        }
      ],
      "source": [
        "column_names = dict(zip(column_names, ['numerical'] * len(column_names)))\n",
        "imputed = regression_imputation(X_data, column_names, stochastic=True)\n",
        "imputed.isna().any().any()"
      ]
    },
    {
      "cell_type": "markdown",
      "metadata": {
        "id": "tHUTGxHZDJTs"
      },
      "source": [
        "## kNN or Hot-Deck"
      ]
    },
    {
      "cell_type": "code",
      "execution_count": null,
      "metadata": {
        "id": "5G8l-v50DMEP"
      },
      "outputs": [],
      "source": [
        "from sklearn.neighbors import KNeighborsRegressor, KNeighborsClassifier"
      ]
    },
    {
      "cell_type": "code",
      "execution_count": 53,
      "metadata": {
        "id": "Aes4JKTnDblw"
      },
      "outputs": [],
      "source": [
        "def kNN_imputation(input_data, column_names: dict, n_neighbors=5, weights='distance'):\n",
        "    data = input_data.copy(deep=True)\n",
        "    for column_name, column_type in column_names.items():\n",
        "        other_columns = [col for col in data.columns if col != column_name]\n",
        "        indexes = data[column_name].isna()\n",
        "        \n",
        "        not_null_df = data[~indexes]\n",
        "        null_df = data[indexes]\n",
        "\n",
        "        X_train = not_null_df[other_columns].fillna(0).to_numpy()\n",
        "        y_train = not_null_df[column_name].to_numpy()\n",
        "\n",
        "        X_pred = null_df[other_columns].fillna(0).to_numpy()\n",
        "        \n",
        "        if column_type == 'numerical':\n",
        "            model = KNeighborsRegressor(n_neighbors=n_neighbors, weights=weights).fit(X_train, y_train)\n",
        "        else:\n",
        "            model = KNeighborsClassifier(n_neighbors=n_neighbors, weights=weights).fit(X_train, y_train)\n",
        "\n",
        "        pred = model.predict(X_pred)\n",
        "        print(pred[:5])\n",
        "        data.loc[indexes, column_name] = pred\n",
        "    return data"
      ]
    },
    {
      "cell_type": "code",
      "execution_count": 54,
      "metadata": {
        "colab": {
          "base_uri": "https://localhost:8080/"
        },
        "id": "P-4-10vXETed",
        "outputId": "d97373e9-5306-4edd-81e7-85c2dfd95f82"
      },
      "outputs": [
        {
          "output_type": "stream",
          "name": "stdout",
          "text": [
            "[2. 1. 1. 1. 1.]\n",
            "[7. 7. 1. 7. 2.]\n",
            "[1. 1. 1. 1. 1.]\n",
            "[4. 4. 4. 4. 4.]\n",
            "[2. 2. 2. 2. 2.]\n"
          ]
        },
        {
          "output_type": "execute_result",
          "data": {
            "text/plain": [
              "False"
            ]
          },
          "metadata": {},
          "execution_count": 54
        }
      ],
      "source": [
        "column_names = X_data.columns[X_data.isna().any()].tolist()\n",
        "column_names = dict(zip(column_names, ['categorical'] * len(column_names)))\n",
        "imputed = kNN_imputation(X_data, column_names)\n",
        "imputed.isna().any().any()"
      ]
    },
    {
      "cell_type": "code",
      "execution_count": 55,
      "metadata": {
        "colab": {
          "base_uri": "https://localhost:8080/"
        },
        "id": "8Xts5K6kEUDM",
        "outputId": "aa236c12-bbf5-413c-c27a-9e81a8261974"
      },
      "outputs": [
        {
          "output_type": "stream",
          "name": "stdout",
          "text": [
            "[2.         1.2        1.19430958 1.24264069 1.4       ]\n",
            "[4.39999557 4.39993361 2.3999625  4.39984011 3.39964572]\n",
            "[1.         2.09384221 1.         1.         2.02657024]\n",
            "[4. 4. 4. 4. 4.]\n",
            "[2. 2. 2. 2. 2.]\n"
          ]
        },
        {
          "output_type": "execute_result",
          "data": {
            "text/plain": [
              "False"
            ]
          },
          "metadata": {},
          "execution_count": 55
        }
      ],
      "source": [
        "column_names = X_data.columns[X_data.isna().any()].tolist()\n",
        "column_names = dict(zip(column_names, ['numerical'] * len(column_names)))\n",
        "imputed = kNN_imputation(X_data, column_names)\n",
        "imputed.isna().any().any()"
      ]
    },
    {
      "cell_type": "markdown",
      "metadata": {
        "id": "TGHrwHBAwuK5"
      },
      "source": [
        "## Datawig"
      ]
    },
    {
      "cell_type": "code",
      "execution_count": null,
      "metadata": {
        "id": "pbLR1qOVwv8r"
      },
      "outputs": [],
      "source": [
        "try:\n",
        "    import datawig\n",
        "except:\n",
        "    !pip install datawig\n",
        "    import datawig\n",
        "    clear_output()"
      ]
    },
    {
      "cell_type": "code",
      "execution_count": 57,
      "metadata": {
        "colab": {
          "base_uri": "https://localhost:8080/",
          "height": 307
        },
        "id": "npPxf9bCObmC",
        "outputId": "f6948986-7d0f-4dcf-ffc2-572348cd946a"
      },
      "outputs": [
        {
          "output_type": "error",
          "ename": "KeyboardInterrupt",
          "evalue": "ignored",
          "traceback": [
            "\u001b[0;31m---------------------------------------------------------------------------\u001b[0m",
            "\u001b[0;31mKeyboardInterrupt\u001b[0m                         Traceback (most recent call last)",
            "\u001b[0;32m<ipython-input-57-24c9382de594>\u001b[0m in \u001b[0;36m<module>\u001b[0;34m()\u001b[0m\n\u001b[0;32m----> 1\u001b[0;31m \u001b[0mX_data_imputed\u001b[0m \u001b[0;34m=\u001b[0m \u001b[0mdatawig\u001b[0m\u001b[0;34m.\u001b[0m\u001b[0mSimpleImputer\u001b[0m\u001b[0;34m.\u001b[0m\u001b[0mcomplete\u001b[0m\u001b[0;34m(\u001b[0m\u001b[0mX_data\u001b[0m\u001b[0;34m)\u001b[0m\u001b[0;34m\u001b[0m\u001b[0;34m\u001b[0m\u001b[0m\n\u001b[0m",
            "\u001b[0;32m/usr/local/lib/python3.7/dist-packages/datawig/simple_imputer.py\u001b[0m in \u001b[0;36mcomplete\u001b[0;34m(data_frame, precision_threshold, inplace, hpo, verbose, num_epochs, iterations, output_path)\u001b[0m\n\u001b[1;32m    525\u001b[0m                                 \u001b[0mpatience\u001b[0m\u001b[0;34m=\u001b[0m\u001b[0;36m5\u001b[0m \u001b[0;32mif\u001b[0m \u001b[0moutput_col\u001b[0m \u001b[0;32min\u001b[0m \u001b[0mcategorical_columns\u001b[0m \u001b[0;32melse\u001b[0m \u001b[0;36m20\u001b[0m\u001b[0;34m,\u001b[0m\u001b[0;34m\u001b[0m\u001b[0;34m\u001b[0m\u001b[0m\n\u001b[1;32m    526\u001b[0m                                 \u001b[0mnum_epochs\u001b[0m\u001b[0;34m=\u001b[0m\u001b[0mnum_epochs\u001b[0m\u001b[0;34m,\u001b[0m\u001b[0;34m\u001b[0m\u001b[0;34m\u001b[0m\u001b[0m\n\u001b[0;32m--> 527\u001b[0;31m                                 calibrate=False)\n\u001b[0m\u001b[1;32m    528\u001b[0m \u001b[0;34m\u001b[0m\u001b[0m\n\u001b[1;32m    529\u001b[0m                 \u001b[0mtmp\u001b[0m \u001b[0;34m=\u001b[0m \u001b[0mimputer\u001b[0m\u001b[0;34m.\u001b[0m\u001b[0mpredict\u001b[0m\u001b[0;34m(\u001b[0m\u001b[0mdata_frame\u001b[0m\u001b[0;34m,\u001b[0m \u001b[0mprecision_threshold\u001b[0m\u001b[0;34m=\u001b[0m\u001b[0mprecision_threshold\u001b[0m\u001b[0;34m)\u001b[0m\u001b[0;34m\u001b[0m\u001b[0;34m\u001b[0m\u001b[0m\n",
            "\u001b[0;32m/usr/local/lib/python3.7/dist-packages/datawig/simple_imputer.py\u001b[0m in \u001b[0;36mfit\u001b[0;34m(self, train_df, test_df, ctx, learning_rate, num_epochs, patience, test_split, weight_decay, batch_size, final_fc_hidden_units, calibrate, class_weights, instance_weights)\u001b[0m\n\u001b[1;32m    388\u001b[0m                                         \u001b[0mweight_decay\u001b[0m\u001b[0;34m,\u001b[0m \u001b[0mbatch_size\u001b[0m\u001b[0;34m,\u001b[0m\u001b[0;34m\u001b[0m\u001b[0;34m\u001b[0m\u001b[0m\n\u001b[1;32m    389\u001b[0m                                         \u001b[0mfinal_fc_hidden_units\u001b[0m\u001b[0;34m=\u001b[0m\u001b[0mfinal_fc_hidden_units\u001b[0m\u001b[0;34m,\u001b[0m\u001b[0;34m\u001b[0m\u001b[0;34m\u001b[0m\u001b[0m\n\u001b[0;32m--> 390\u001b[0;31m                                         calibrate=calibrate)\n\u001b[0m\u001b[1;32m    391\u001b[0m         \u001b[0mself\u001b[0m\u001b[0;34m.\u001b[0m\u001b[0msave\u001b[0m\u001b[0;34m(\u001b[0m\u001b[0;34m)\u001b[0m\u001b[0;34m\u001b[0m\u001b[0;34m\u001b[0m\u001b[0m\n\u001b[1;32m    392\u001b[0m \u001b[0;34m\u001b[0m\u001b[0m\n",
            "\u001b[0;32m/usr/local/lib/python3.7/dist-packages/datawig/imputer.py\u001b[0m in \u001b[0;36mfit\u001b[0;34m(self, train_df, test_df, ctx, learning_rate, num_epochs, patience, test_split, weight_decay, batch_size, final_fc_hidden_units, calibrate)\u001b[0m\n\u001b[1;32m    269\u001b[0m             \u001b[0mself\u001b[0m\u001b[0;34m.\u001b[0m\u001b[0mmodule\u001b[0m \u001b[0;34m=\u001b[0m \u001b[0mself\u001b[0m\u001b[0;34m.\u001b[0m\u001b[0m__build_module\u001b[0m\u001b[0;34m(\u001b[0m\u001b[0miter_train\u001b[0m\u001b[0;34m)\u001b[0m\u001b[0;34m\u001b[0m\u001b[0;34m\u001b[0m\u001b[0m\n\u001b[1;32m    270\u001b[0m \u001b[0;34m\u001b[0m\u001b[0m\n\u001b[0;32m--> 271\u001b[0;31m         \u001b[0mself\u001b[0m\u001b[0;34m.\u001b[0m\u001b[0m__fit_module\u001b[0m\u001b[0;34m(\u001b[0m\u001b[0miter_train\u001b[0m\u001b[0;34m,\u001b[0m \u001b[0miter_test\u001b[0m\u001b[0;34m,\u001b[0m \u001b[0mlearning_rate\u001b[0m\u001b[0;34m,\u001b[0m \u001b[0mnum_epochs\u001b[0m\u001b[0;34m,\u001b[0m \u001b[0mpatience\u001b[0m\u001b[0;34m,\u001b[0m \u001b[0mweight_decay\u001b[0m\u001b[0;34m)\u001b[0m\u001b[0;34m\u001b[0m\u001b[0;34m\u001b[0m\u001b[0m\n\u001b[0m\u001b[1;32m    272\u001b[0m \u001b[0;34m\u001b[0m\u001b[0m\n\u001b[1;32m    273\u001b[0m         \u001b[0;31m# Check whether calibration is needed, if so ompute and set internal parameter\u001b[0m\u001b[0;34m\u001b[0m\u001b[0;34m\u001b[0m\u001b[0;34m\u001b[0m\u001b[0m\n",
            "\u001b[0;32m/usr/local/lib/python3.7/dist-packages/datawig/imputer.py\u001b[0m in \u001b[0;36m__fit_module\u001b[0;34m(self, iter_train, iter_test, learning_rate, num_epochs, patience, weight_decay)\u001b[0m\n\u001b[1;32m    516\u001b[0m                                                                 auto_reset=True)],\n\u001b[1;32m    517\u001b[0m                     \u001b[0meval_end_callback\u001b[0m\u001b[0;34m=\u001b[0m\u001b[0;34m[\u001b[0m\u001b[0mtest_cb\u001b[0m\u001b[0;34m,\u001b[0m \u001b[0mtrain_cb\u001b[0m\u001b[0;34m]\u001b[0m\u001b[0;34m,\u001b[0m\u001b[0;34m\u001b[0m\u001b[0;34m\u001b[0m\u001b[0m\n\u001b[0;32m--> 518\u001b[0;31m                     \u001b[0mepoch_end_callback\u001b[0m\u001b[0;34m=\u001b[0m\u001b[0mcheckpoint\u001b[0m\u001b[0;34m\u001b[0m\u001b[0;34m\u001b[0m\u001b[0m\n\u001b[0m\u001b[1;32m    519\u001b[0m                 )\n\u001b[1;32m    520\u001b[0m             \u001b[0;32mexcept\u001b[0m \u001b[0mStopIteration\u001b[0m\u001b[0;34m:\u001b[0m\u001b[0;34m\u001b[0m\u001b[0;34m\u001b[0m\u001b[0m\n",
            "\u001b[0;32m/usr/local/lib/python3.7/dist-packages/mxnet/module/base_module.py\u001b[0m in \u001b[0;36mfit\u001b[0;34m(self, train_data, eval_data, eval_metric, epoch_end_callback, batch_end_callback, kvstore, optimizer, optimizer_params, eval_end_callback, eval_batch_end_callback, initializer, arg_params, aux_params, allow_missing, force_rebind, force_init, begin_epoch, num_epoch, validation_metric, monitor, sparse_row_id_fn)\u001b[0m\n\u001b[1;32m    527\u001b[0m                     \u001b[0mmonitor\u001b[0m\u001b[0;34m.\u001b[0m\u001b[0mtic\u001b[0m\u001b[0;34m(\u001b[0m\u001b[0;34m)\u001b[0m\u001b[0;34m\u001b[0m\u001b[0;34m\u001b[0m\u001b[0m\n\u001b[1;32m    528\u001b[0m                 \u001b[0mself\u001b[0m\u001b[0;34m.\u001b[0m\u001b[0mforward_backward\u001b[0m\u001b[0;34m(\u001b[0m\u001b[0mdata_batch\u001b[0m\u001b[0;34m)\u001b[0m\u001b[0;34m\u001b[0m\u001b[0;34m\u001b[0m\u001b[0m\n\u001b[0;32m--> 529\u001b[0;31m                 \u001b[0mself\u001b[0m\u001b[0;34m.\u001b[0m\u001b[0mupdate\u001b[0m\u001b[0;34m(\u001b[0m\u001b[0;34m)\u001b[0m\u001b[0;34m\u001b[0m\u001b[0;34m\u001b[0m\u001b[0m\n\u001b[0m\u001b[1;32m    530\u001b[0m \u001b[0;34m\u001b[0m\u001b[0m\n\u001b[1;32m    531\u001b[0m                 \u001b[0;32mif\u001b[0m \u001b[0misinstance\u001b[0m\u001b[0;34m(\u001b[0m\u001b[0mdata_batch\u001b[0m\u001b[0;34m,\u001b[0m \u001b[0mlist\u001b[0m\u001b[0;34m)\u001b[0m\u001b[0;34m:\u001b[0m\u001b[0;34m\u001b[0m\u001b[0;34m\u001b[0m\u001b[0m\n",
            "\u001b[0;32m/usr/local/lib/python3.7/dist-packages/mxnet/module/module.py\u001b[0m in \u001b[0;36mupdate\u001b[0;34m(self)\u001b[0m\n\u001b[1;32m    669\u001b[0m                            \u001b[0mnum_device\u001b[0m\u001b[0;34m=\u001b[0m\u001b[0mlen\u001b[0m\u001b[0;34m(\u001b[0m\u001b[0mself\u001b[0m\u001b[0;34m.\u001b[0m\u001b[0m_context\u001b[0m\u001b[0;34m)\u001b[0m\u001b[0;34m,\u001b[0m\u001b[0;34m\u001b[0m\u001b[0;34m\u001b[0m\u001b[0m\n\u001b[1;32m    670\u001b[0m                            \u001b[0mkvstore\u001b[0m\u001b[0;34m=\u001b[0m\u001b[0mself\u001b[0m\u001b[0;34m.\u001b[0m\u001b[0m_kvstore\u001b[0m\u001b[0;34m,\u001b[0m\u001b[0;34m\u001b[0m\u001b[0;34m\u001b[0m\u001b[0m\n\u001b[0;32m--> 671\u001b[0;31m                            param_names=self._exec_group.param_names)\n\u001b[0m\u001b[1;32m    672\u001b[0m \u001b[0;34m\u001b[0m\u001b[0m\n\u001b[1;32m    673\u001b[0m     \u001b[0;32mdef\u001b[0m \u001b[0mget_outputs\u001b[0m\u001b[0;34m(\u001b[0m\u001b[0mself\u001b[0m\u001b[0;34m,\u001b[0m \u001b[0mmerge_multi_context\u001b[0m\u001b[0;34m=\u001b[0m\u001b[0;32mTrue\u001b[0m\u001b[0;34m)\u001b[0m\u001b[0;34m:\u001b[0m\u001b[0;34m\u001b[0m\u001b[0;34m\u001b[0m\u001b[0m\n",
            "\u001b[0;32m/usr/local/lib/python3.7/dist-packages/mxnet/model.py\u001b[0m in \u001b[0;36m_update_params\u001b[0;34m(param_arrays, grad_arrays, updater, num_device, kvstore, param_names)\u001b[0m\n\u001b[1;32m    174\u001b[0m             \u001b[0;31m# use a better solution later\u001b[0m\u001b[0;34m\u001b[0m\u001b[0;34m\u001b[0m\u001b[0;34m\u001b[0m\u001b[0m\n\u001b[1;32m    175\u001b[0m             \u001b[0mw\u001b[0m\u001b[0;34m,\u001b[0m \u001b[0mg\u001b[0m \u001b[0;34m=\u001b[0m \u001b[0mp\u001b[0m\u001b[0;34m\u001b[0m\u001b[0;34m\u001b[0m\u001b[0m\n\u001b[0;32m--> 176\u001b[0;31m             \u001b[0mupdater\u001b[0m\u001b[0;34m(\u001b[0m\u001b[0mindex\u001b[0m\u001b[0;34m*\u001b[0m\u001b[0mnum_device\u001b[0m\u001b[0;34m+\u001b[0m\u001b[0mk\u001b[0m\u001b[0;34m,\u001b[0m \u001b[0mg\u001b[0m\u001b[0;34m,\u001b[0m \u001b[0mw\u001b[0m\u001b[0;34m)\u001b[0m\u001b[0;34m\u001b[0m\u001b[0;34m\u001b[0m\u001b[0m\n\u001b[0m\u001b[1;32m    177\u001b[0m \u001b[0;34m\u001b[0m\u001b[0m\n\u001b[1;32m    178\u001b[0m \u001b[0;34m\u001b[0m\u001b[0m\n",
            "\u001b[0;32m/usr/local/lib/python3.7/dist-packages/mxnet/optimizer/optimizer.py\u001b[0m in \u001b[0;36m__call__\u001b[0;34m(self, index, grad, weight)\u001b[0m\n\u001b[1;32m   1528\u001b[0m                 \u001b[0mself\u001b[0m\u001b[0;34m.\u001b[0m\u001b[0msync_state_context\u001b[0m\u001b[0;34m(\u001b[0m\u001b[0mself\u001b[0m\u001b[0;34m.\u001b[0m\u001b[0mstates\u001b[0m\u001b[0;34m[\u001b[0m\u001b[0mindex\u001b[0m\u001b[0;34m]\u001b[0m\u001b[0;34m,\u001b[0m \u001b[0mweight\u001b[0m\u001b[0;34m.\u001b[0m\u001b[0mcontext\u001b[0m\u001b[0;34m)\u001b[0m\u001b[0;34m\u001b[0m\u001b[0;34m\u001b[0m\u001b[0m\n\u001b[1;32m   1529\u001b[0m             \u001b[0mself\u001b[0m\u001b[0;34m.\u001b[0m\u001b[0mstates_synced\u001b[0m\u001b[0;34m[\u001b[0m\u001b[0mindex\u001b[0m\u001b[0;34m]\u001b[0m \u001b[0;34m=\u001b[0m \u001b[0;32mTrue\u001b[0m\u001b[0;34m\u001b[0m\u001b[0;34m\u001b[0m\u001b[0m\n\u001b[0;32m-> 1530\u001b[0;31m         \u001b[0mself\u001b[0m\u001b[0;34m.\u001b[0m\u001b[0moptimizer\u001b[0m\u001b[0;34m.\u001b[0m\u001b[0mupdate_multi_precision\u001b[0m\u001b[0;34m(\u001b[0m\u001b[0mindex\u001b[0m\u001b[0;34m,\u001b[0m \u001b[0mweight\u001b[0m\u001b[0;34m,\u001b[0m \u001b[0mgrad\u001b[0m\u001b[0;34m,\u001b[0m \u001b[0mself\u001b[0m\u001b[0;34m.\u001b[0m\u001b[0mstates\u001b[0m\u001b[0;34m[\u001b[0m\u001b[0mindex\u001b[0m\u001b[0;34m]\u001b[0m\u001b[0;34m)\u001b[0m\u001b[0;34m\u001b[0m\u001b[0;34m\u001b[0m\u001b[0m\n\u001b[0m\u001b[1;32m   1531\u001b[0m \u001b[0;34m\u001b[0m\u001b[0m\n\u001b[1;32m   1532\u001b[0m     \u001b[0;32mdef\u001b[0m \u001b[0msync_state_context\u001b[0m\u001b[0;34m(\u001b[0m\u001b[0mself\u001b[0m\u001b[0;34m,\u001b[0m \u001b[0mstate\u001b[0m\u001b[0;34m,\u001b[0m \u001b[0mcontext\u001b[0m\u001b[0;34m)\u001b[0m\u001b[0;34m:\u001b[0m\u001b[0;34m\u001b[0m\u001b[0;34m\u001b[0m\u001b[0m\n",
            "\u001b[0;32m/usr/local/lib/python3.7/dist-packages/mxnet/optimizer/optimizer.py\u001b[0m in \u001b[0;36mupdate_multi_precision\u001b[0;34m(self, index, weight, grad, state)\u001b[0m\n\u001b[1;32m    279\u001b[0m             \u001b[0mcast\u001b[0m\u001b[0;34m(\u001b[0m\u001b[0mweight_master_copy\u001b[0m\u001b[0;34m,\u001b[0m \u001b[0mdtype\u001b[0m\u001b[0;34m=\u001b[0m\u001b[0mweight\u001b[0m\u001b[0;34m.\u001b[0m\u001b[0mdtype\u001b[0m\u001b[0;34m,\u001b[0m \u001b[0mout\u001b[0m\u001b[0;34m=\u001b[0m\u001b[0mweight\u001b[0m\u001b[0;34m)\u001b[0m\u001b[0;34m\u001b[0m\u001b[0;34m\u001b[0m\u001b[0m\n\u001b[1;32m    280\u001b[0m         \u001b[0;32melse\u001b[0m\u001b[0;34m:\u001b[0m\u001b[0;34m\u001b[0m\u001b[0;34m\u001b[0m\u001b[0m\n\u001b[0;32m--> 281\u001b[0;31m             \u001b[0mself\u001b[0m\u001b[0;34m.\u001b[0m\u001b[0mupdate\u001b[0m\u001b[0;34m(\u001b[0m\u001b[0mindex\u001b[0m\u001b[0;34m,\u001b[0m \u001b[0mweight\u001b[0m\u001b[0;34m,\u001b[0m \u001b[0mgrad\u001b[0m\u001b[0;34m,\u001b[0m \u001b[0mstate\u001b[0m\u001b[0;34m)\u001b[0m\u001b[0;34m\u001b[0m\u001b[0;34m\u001b[0m\u001b[0m\n\u001b[0m\u001b[1;32m    282\u001b[0m \u001b[0;34m\u001b[0m\u001b[0m\n\u001b[1;32m    283\u001b[0m     \u001b[0;32mdef\u001b[0m \u001b[0mset_learning_rate\u001b[0m\u001b[0;34m(\u001b[0m\u001b[0mself\u001b[0m\u001b[0;34m,\u001b[0m \u001b[0mlr\u001b[0m\u001b[0;34m)\u001b[0m\u001b[0;34m:\u001b[0m\u001b[0;34m\u001b[0m\u001b[0;34m\u001b[0m\u001b[0m\n",
            "\u001b[0;32m/usr/local/lib/python3.7/dist-packages/mxnet/optimizer/optimizer.py\u001b[0m in \u001b[0;36mupdate\u001b[0;34m(self, index, weight, grad, state)\u001b[0m\n\u001b[1;32m   1094\u001b[0m         \u001b[0mmean\u001b[0m\u001b[0;34m,\u001b[0m \u001b[0mvar\u001b[0m \u001b[0;34m=\u001b[0m \u001b[0mstate\u001b[0m\u001b[0;34m\u001b[0m\u001b[0;34m\u001b[0m\u001b[0m\n\u001b[1;32m   1095\u001b[0m         adam_update(weight, grad, mean, var, out=weight,\n\u001b[0;32m-> 1096\u001b[0;31m                     lazy_update=self.lazy_update, lr=lr, wd=wd, **kwargs)\n\u001b[0m\u001b[1;32m   1097\u001b[0m \u001b[0;34m\u001b[0m\u001b[0m\n\u001b[1;32m   1098\u001b[0m \u001b[0;34m@\u001b[0m\u001b[0mregister\u001b[0m\u001b[0;34m\u001b[0m\u001b[0;34m\u001b[0m\u001b[0m\n",
            "\u001b[0;32m/usr/local/lib/python3.7/dist-packages/mxnet/ndarray/register.py\u001b[0m in \u001b[0;36madam_update\u001b[0;34m(weight, grad, mean, var, lr, beta1, beta2, epsilon, wd, rescale_grad, clip_gradient, lazy_update, out, name, **kwargs)\u001b[0m\n",
            "\u001b[0;32m/usr/local/lib/python3.7/dist-packages/mxnet/_ctypes/ndarray.py\u001b[0m in \u001b[0;36m_imperative_invoke\u001b[0;34m(handle, ndargs, keys, vals, out)\u001b[0m\n\u001b[1;32m     90\u001b[0m         \u001b[0mc_str_array\u001b[0m\u001b[0;34m(\u001b[0m\u001b[0mkeys\u001b[0m\u001b[0;34m)\u001b[0m\u001b[0;34m,\u001b[0m\u001b[0;34m\u001b[0m\u001b[0;34m\u001b[0m\u001b[0m\n\u001b[1;32m     91\u001b[0m         \u001b[0mc_str_array\u001b[0m\u001b[0;34m(\u001b[0m\u001b[0;34m[\u001b[0m\u001b[0mstr\u001b[0m\u001b[0;34m(\u001b[0m\u001b[0ms\u001b[0m\u001b[0;34m)\u001b[0m \u001b[0;32mfor\u001b[0m \u001b[0ms\u001b[0m \u001b[0;32min\u001b[0m \u001b[0mvals\u001b[0m\u001b[0;34m]\u001b[0m\u001b[0;34m)\u001b[0m\u001b[0;34m,\u001b[0m\u001b[0;34m\u001b[0m\u001b[0;34m\u001b[0m\u001b[0m\n\u001b[0;32m---> 92\u001b[0;31m         ctypes.byref(out_stypes)))\n\u001b[0m\u001b[1;32m     93\u001b[0m \u001b[0;34m\u001b[0m\u001b[0m\n\u001b[1;32m     94\u001b[0m     \u001b[0;32mif\u001b[0m \u001b[0moriginal_output\u001b[0m \u001b[0;32mis\u001b[0m \u001b[0;32mnot\u001b[0m \u001b[0;32mNone\u001b[0m\u001b[0;34m:\u001b[0m\u001b[0;34m\u001b[0m\u001b[0;34m\u001b[0m\u001b[0m\n",
            "\u001b[0;31mKeyboardInterrupt\u001b[0m: "
          ]
        }
      ],
      "source": [
        "X_data_imputed = datawig.SimpleImputer.complete(X_data)"
      ]
    },
    {
      "cell_type": "code",
      "execution_count": 58,
      "metadata": {
        "colab": {
          "base_uri": "https://localhost:8080/"
        },
        "id": "_V4wUs32RxJI",
        "outputId": "edcc2ede-7f37-4334-de29-9bee0bdb46ec"
      },
      "outputs": [
        {
          "output_type": "execute_result",
          "data": {
            "text/plain": [
              "False"
            ]
          },
          "metadata": {},
          "execution_count": 58
        }
      ],
      "source": [
        "X_data_imputed.isna().any().any()"
      ]
    },
    {
      "cell_type": "markdown",
      "metadata": {
        "id": "W19QtnzHGg4x"
      },
      "source": [
        "# Comparison of imputation methods"
      ]
    },
    {
      "cell_type": "code",
      "execution_count": 59,
      "metadata": {
        "id": "DvFDIXfiG5SD"
      },
      "outputs": [],
      "source": [
        "from sklearn.metrics import mean_squared_error as MSE\n",
        "from sklearn.metrics import mean_absolute_error as MAE"
      ]
    },
    {
      "cell_type": "code",
      "execution_count": 62,
      "metadata": {
        "id": "BDhIgO6oMz3Q",
        "colab": {
          "base_uri": "https://localhost:8080/"
        },
        "outputId": "ff2c5f8b-0ba0-4835-e428-4cb5d2d09032"
      },
      "outputs": [
        {
          "output_type": "execute_result",
          "data": {
            "text/plain": [
              "False"
            ]
          },
          "metadata": {},
          "execution_count": 62
        }
      ],
      "source": [
        "data_source = ACSDataSource(\n",
        "    survey_year='2016',\n",
        "    horizon='1-Year',\n",
        "    survey='person'\n",
        ")\n",
        "acs_data = data_source.get_data(states=['AL'], download=True)\n",
        "features, label, group = ACSEmployment.df_to_numpy(acs_data)\n",
        "\n",
        "X_full = pd.DataFrame(features, columns=ACSEmployment.features)\n",
        "y_full = pd.DataFrame(label)\n",
        "y_full.rename(columns={0: ACSEmployment.target}, inplace=True)\n",
        "X_full.isna().any().any()"
      ]
    },
    {
      "cell_type": "markdown",
      "metadata": {
        "id": "7-Q3K8bFP3il"
      },
      "source": [
        "Should I add target column and compare imputation metrics for it?"
      ]
    },
    {
      "cell_type": "code",
      "execution_count": 61,
      "metadata": {
        "id": "c3orQUgJNheS",
        "colab": {
          "base_uri": "https://localhost:8080/"
        },
        "outputId": "363479cf-59c5-43cb-ff97-a4eaf071d621"
      },
      "outputs": [
        {
          "output_type": "stream",
          "name": "stdout",
          "text": [
            "[2. 2. 2. 2. 2.]\n",
            "[6. 6. 6. 6. 6.]\n",
            "[1. 1. 1. 1. 1.]\n",
            "[4. 4. 4. 4. 4.]\n",
            "[2. 2. 2. 2. 2.]\n",
            "\n",
            "[2. 1. 1. 1. 1.]\n",
            "[7. 7. 1. 7. 2.]\n",
            "[1. 1. 1. 1. 1.]\n",
            "[4. 4. 4. 4. 4.]\n",
            "[2. 2. 2. 2. 2.]\n",
            "MSE for regression - SCHL: 0.33464422154868556\n",
            "MAE for regression - SCHL: 0.33464422154868556\n",
            "\n",
            "MSE for kNN - SCHL: 0.19036613903213773\n",
            "MAE for kNN - SCHL: 0.18374269041337213\n",
            "\n",
            "MSE for Datawig - SCHL: 0.21917474057385292\n",
            "MAE for Datawig - SCHL: 0.18266780376848127\n",
            "----------------------------------------------------------------------------------------------------\n",
            "MSE for regression - ESP: 3.0948704069037376\n",
            "MAE for regression - ESP: 2.8313342434435858\n",
            "\n",
            "MSE for kNN - ESP: 2.9473601139450576\n",
            "MAE for kNN - ESP: 2.387706748881783\n",
            "\n",
            "MSE for Datawig - ESP: 9.90962571214113\n",
            "MAE for Datawig - ESP: 8.6203384497272\n",
            "----------------------------------------------------------------------------------------------------\n",
            "MSE for regression - MIG: 1.5092073168811968\n",
            "MAE for regression - MIG: 1.4960858492062403\n",
            "\n",
            "MSE for kNN - MIG: 1.882896713400983\n",
            "MAE for kNN - MIG: 1.7098123990928462\n",
            "\n",
            "MSE for Datawig - MIG: 1.8997585946599727\n",
            "MAE for Datawig - MIG: 1.7958543296828469\n",
            "----------------------------------------------------------------------------------------------------\n",
            "MSE for regression - MIL: 2.54758106728316\n",
            "MAE for regression - MIL: 2.54758106728316\n",
            "\n",
            "MSE for kNN - MIL: 2.54758106728316\n",
            "MAE for kNN - MIL: 2.54758106728316\n",
            "\n",
            "MSE for Datawig - MIL: 2.5881986017367438\n",
            "MAE for Datawig - MIL: 2.5841079274588483\n",
            "----------------------------------------------------------------------------------------------------\n",
            "MSE for regression - DREM: 4.068967014304864\n",
            "MAE for regression - DREM: 4.066801643238255\n",
            "\n",
            "MSE for kNN - DREM: 4.0754839695474745\n",
            "MAE for kNN - DREM: 4.0754839695474745\n",
            "\n",
            "MSE for Datawig - DREM: 4.058470306032243\n",
            "MAE for Datawig - DREM: 4.056807191141048\n",
            "----------------------------------------------------------------------------------------------------\n"
          ]
        }
      ],
      "source": [
        "column_names = X_data.columns[X_data.isna().any()].tolist()\n",
        "column_names = dict(zip(column_names, ['categorical'] * len(column_names)))\n",
        "\n",
        "\n",
        "imputed_regression = regression_imputation(X_data, column_names, stochastic=False)\n",
        "print()\n",
        "imputed_kNN = kNN_imputation(X_data, column_names)\n",
        "\n",
        "for column_name in column_names:\n",
        "    indexes = X_data[column_name].isna()\n",
        "    true = X_full.loc[indexes, column_name]\n",
        "    std = X_full[column_name].std()\n",
        "\n",
        "    pred_regression = imputed_regression.loc[indexes, column_name]\n",
        "    print(f'MSE for regression - {column_name}: {MSE(true, pred_regression) ** .5 / std}')\n",
        "    print(f'MAE for regression - {column_name}: {MAE(true, pred_regression) / std}')\n",
        "    print()\n",
        "\n",
        "    pred_kNN = imputed_kNN.loc[indexes, column_name]\n",
        "    print(f'MSE for kNN - {column_name}: {MSE(true, pred_kNN) ** .5 / std}')\n",
        "    print(f'MAE for kNN - {column_name}: {MAE(true, pred_kNN) / std}')\n",
        "    print()\n",
        "\n",
        "    pred = X_data_imputed.loc[indexes, column_name]\n",
        "    print(f'MSE for Datawig - {column_name}: {MSE(true, pred) ** .5 / std}')\n",
        "    print(f'MAE for Datawig - {column_name}: {MAE(true, pred) / std}')\n",
        "    \n",
        "    print('-' * 100)"
      ]
    },
    {
      "cell_type": "markdown",
      "source": [
        "I guess, all results except for SCHL are very poor according to RMSE / std (relative error in terms of standard deviation of the given column).\n",
        "\n",
        "I also think we cannot apply imputation methods until we convert categorical columns to dummies."
      ],
      "metadata": {
        "id": "4fjGch4efRD7"
      }
    },
    {
      "cell_type": "markdown",
      "source": [
        "# Null simulation and imputation"
      ],
      "metadata": {
        "id": "FAVodk1ckq2e"
      }
    },
    {
      "cell_type": "markdown",
      "source": [
        "Sorry for breaking YAGNI..."
      ],
      "metadata": {
        "id": "ogxKdfYSroOp"
      }
    },
    {
      "cell_type": "markdown",
      "source": [
        "## Unknown. AGEP"
      ],
      "metadata": {
        "id": "i5rvx67nu2rw"
      }
    },
    {
      "cell_type": "code",
      "source": [
        "X_full.isna().any().any()"
      ],
      "metadata": {
        "colab": {
          "base_uri": "https://localhost:8080/"
        },
        "id": "T3P7iLARlkdr",
        "outputId": "b939f078-145c-4d1e-d214-146f368e4106"
      },
      "execution_count": 63,
      "outputs": [
        {
          "output_type": "execute_result",
          "data": {
            "text/plain": [
              "False"
            ]
          },
          "metadata": {},
          "execution_count": 63
        }
      ]
    },
    {
      "cell_type": "code",
      "source": [
        "special_values = (8, 10, 11, 12, 15)\n",
        "condition_col = 'RELP'\n",
        "target_col = 'AGEP'\n",
        "fraction = .4\n",
        "corrupted_data_AGEP = nulls_simulator(X_data, target_col, condition_col, special_values, fraction)"
      ],
      "metadata": {
        "id": "Th4w--rwoP9Y"
      },
      "execution_count": 64,
      "outputs": []
    },
    {
      "cell_type": "code",
      "source": [
        "column_names = {'AGEP': 'numerical'}\n",
        "\n",
        "imputed_regression = regression_imputation(corrupted_data_AGEP, column_names, stochastic=False)\n",
        "print()\n",
        "imputed_kNN = kNN_imputation(corrupted_data_AGEP, column_names)"
      ],
      "metadata": {
        "colab": {
          "base_uri": "https://localhost:8080/"
        },
        "id": "zD_S8yFEosLB",
        "outputId": "366db8e4-dbf2-4694-97f5-8d30c16257b4"
      },
      "execution_count": 76,
      "outputs": [
        {
          "output_type": "stream",
          "name": "stdout",
          "text": [
            "[58.00631736 29.61905465 32.55799475 31.446597   26.36660763]\n",
            "\n",
            "[56.1723686  32.25402078 22.34590845 35.39805608 25.71572875]\n"
          ]
        }
      ]
    },
    {
      "cell_type": "code",
      "source": [
        "for column_name in column_names:\n",
        "    indexes = corrupted_data_AGEP[column_name].isna()\n",
        "    true = X_full.loc[indexes, column_name]\n",
        "    std = X_full[column_name].std()\n",
        "\n",
        "    pred_regression = imputed_regression.loc[indexes, column_name]\n",
        "    print(f'MSE for regression - {column_name}: {MSE(true, pred_regression) ** .5 / std}')\n",
        "    print(f'MAE for regression - {column_name}: {MAE(true, pred_regression) / std}')\n",
        "    print()\n",
        "\n",
        "    pred_kNN = imputed_kNN.loc[indexes, column_name]\n",
        "    print(f'MSE for kNN - {column_name}: {MSE(true, pred_kNN) ** .5 / std}')\n",
        "    print(f'MAE for kNN - {column_name}: {MAE(true, pred_kNN) / std}')\n",
        "\n",
        "    print('-' * 100)"
      ],
      "metadata": {
        "colab": {
          "base_uri": "https://localhost:8080/"
        },
        "id": "QcbYhEKhqZOe",
        "outputId": "fcda3957-afc3-4005-f301-600298c232d7"
      },
      "execution_count": 77,
      "outputs": [
        {
          "output_type": "stream",
          "name": "stdout",
          "text": [
            "MSE for regression - AGEP: 0.6274729506662078\n",
            "MAE for regression - AGEP: 0.47722993815269676\n",
            "\n",
            "MSE for kNN - AGEP: 0.7462729786565029\n",
            "MAE for kNN - AGEP: 0.5298874886355066\n",
            "----------------------------------------------------------------------------------------------------\n"
          ]
        }
      ]
    },
    {
      "cell_type": "markdown",
      "source": [
        "## Special. SEX"
      ],
      "metadata": {
        "id": "v1_dD8E6tA7V"
      }
    },
    {
      "cell_type": "code",
      "source": [
        "special_values = [1]\n",
        "condition_col = 'SEX'\n",
        "target_col = 'SEX'\n",
        "fraction = .11\n",
        "corrupted_data_SEX = nulls_simulator(X_data, target_col, condition_col, special_values, fraction)"
      ],
      "metadata": {
        "id": "bOnV4s_TrH4l"
      },
      "execution_count": 79,
      "outputs": []
    },
    {
      "cell_type": "code",
      "source": [
        "column_names = {'SEX': 'categorical'}\n",
        "\n",
        "imputed_regression = regression_imputation(corrupted_data_SEX, column_names, stochastic=False)\n",
        "print()\n",
        "imputed_kNN = kNN_imputation(corrupted_data_SEX, column_names)"
      ],
      "metadata": {
        "colab": {
          "base_uri": "https://localhost:8080/"
        },
        "id": "EAZ8M1AfsANJ",
        "outputId": "5d03dc8f-fef0-4c84-e149-c67b5fb01007"
      },
      "execution_count": 80,
      "outputs": [
        {
          "output_type": "stream",
          "name": "stdout",
          "text": [
            "[1. 2. 2. 2. 2.]\n",
            "\n",
            "[1. 1. 1. 2. 1.]\n"
          ]
        }
      ]
    },
    {
      "cell_type": "code",
      "source": [
        "for column_name in column_names:\n",
        "    indexes = corrupted_data_SEX[column_name].isna()\n",
        "    true = X_full.loc[indexes, column_name]\n",
        "    std = X_full[column_name].std()\n",
        "\n",
        "    pred_regression = imputed_regression.loc[indexes, column_name]\n",
        "    print(f'MSE for regression - {column_name}: {MSE(true, pred_regression) ** .5 / std}')\n",
        "    print(f'MAE for regression - {column_name}: {MAE(true, pred_regression) / std}')\n",
        "    print()\n",
        "\n",
        "    pred_kNN = imputed_kNN.loc[indexes, column_name]\n",
        "    print(f'MSE for kNN - {column_name}: {MSE(true, pred_kNN) ** .5 / std}')\n",
        "    print(f'MAE for kNN - {column_name}: {MAE(true, pred_kNN) / std}')\n",
        "\n",
        "    print('-' * 100)"
      ],
      "metadata": {
        "colab": {
          "base_uri": "https://localhost:8080/"
        },
        "id": "6YHvXhg0sNxr",
        "outputId": "b36a7f44-8396-4c7b-b6fa-22d7c763e04d"
      },
      "execution_count": 83,
      "outputs": [
        {
          "output_type": "stream",
          "name": "stdout",
          "text": [
            "(2520,)\n",
            "(2520,)\n",
            "MSE for regression - SEX: 1.737900159194137\n",
            "MAE for regression - SEX: 1.50904208950754\n",
            "\n",
            "MSE for kNN - SEX: 1.2178361022697717\n",
            "MAE for kNN - SEX: 0.7410190892160711\n",
            "----------------------------------------------------------------------------------------------------\n"
          ]
        }
      ]
    }
  ],
  "metadata": {
    "colab": {
      "collapsed_sections": [],
      "name": "Preprocessing_Techniques.ipynb",
      "provenance": [],
      "authorship_tag": "ABX9TyMmV7ysayyLxPnfSDUCGOSW",
      "include_colab_link": true
    },
    "kernelspec": {
      "display_name": "Python 3",
      "name": "python3"
    },
    "language_info": {
      "name": "python"
    }
  },
  "nbformat": 4,
  "nbformat_minor": 0
}